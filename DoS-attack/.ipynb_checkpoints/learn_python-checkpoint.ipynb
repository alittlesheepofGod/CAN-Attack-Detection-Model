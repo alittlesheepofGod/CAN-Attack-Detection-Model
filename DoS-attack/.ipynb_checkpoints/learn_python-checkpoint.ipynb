{
 "cells": [
  {
   "cell_type": "code",
   "execution_count": 1,
   "id": "355e777f-a899-492c-b414-67694c421595",
   "metadata": {},
   "outputs": [],
   "source": [
    "def adder(x, y, z):\n",
    "    print(\"sum: \", x+y+z)"
   ]
  },
  {
   "cell_type": "code",
   "execution_count": 2,
   "id": "c1437ce9-4ee2-4108-a0a7-72c7ffe443db",
   "metadata": {},
   "outputs": [
    {
     "name": "stdout",
     "output_type": "stream",
     "text": [
      "sum:  36\n"
     ]
    }
   ],
   "source": [
    "adder(10, 12, 14)"
   ]
  },
  {
   "cell_type": "code",
   "execution_count": 3,
   "id": "c701b932-0083-4fb9-baae-73fc02594853",
   "metadata": {},
   "outputs": [],
   "source": [
    "# declaring byte value \n",
    "byte_val = b'\\x00\\x01'"
   ]
  },
  {
   "cell_type": "code",
   "execution_count": 4,
   "id": "ee84b379-29b8-4846-9d14-860c98c1e967",
   "metadata": {},
   "outputs": [
    {
     "data": {
      "text/plain": [
       "b'\\x00\\x01'"
      ]
     },
     "execution_count": 4,
     "metadata": {},
     "output_type": "execute_result"
    }
   ],
   "source": [
    "byte_val"
   ]
  },
  {
   "cell_type": "code",
   "execution_count": 5,
   "id": "0ef29d2a-5f2c-421b-a844-776c0eb7a50f",
   "metadata": {},
   "outputs": [
    {
     "data": {
      "text/plain": [
       "b''"
      ]
     },
     "execution_count": 5,
     "metadata": {},
     "output_type": "execute_result"
    }
   ],
   "source": [
    "bytes()"
   ]
  },
  {
   "cell_type": "code",
   "execution_count": 8,
   "id": "697a9b86-9144-4493-84b4-dbbbb1040159",
   "metadata": {},
   "outputs": [
    {
     "name": "stdout",
     "output_type": "stream",
     "text": [
      "b'\\x04'\n"
     ]
    }
   ],
   "source": [
    "a = 4\n",
    "\n",
    "print(bytes([a]))"
   ]
  },
  {
   "cell_type": "code",
   "execution_count": 10,
   "id": "97d5f6ac-7dd3-4f52-a6a0-4643ea45f2b2",
   "metadata": {},
   "outputs": [
    {
     "data": {
      "text/plain": [
       "4"
      ]
     },
     "execution_count": 10,
     "metadata": {},
     "output_type": "execute_result"
    }
   ],
   "source": [
    "import sys \n",
    "int.from_bytes(b'\\x04', byteorder=sys.byteorder)"
   ]
  },
  {
   "cell_type": "markdown",
   "id": "536d0c92-ec58-4509-9427-9b365a7f8202",
   "metadata": {},
   "source": [
    "# break statement python"
   ]
  },
  {
   "cell_type": "code",
   "execution_count": null,
   "id": "41f96659-4371-480d-8c82-5539dd745a5c",
   "metadata": {},
   "outputs": [],
   "source": []
  }
 ],
 "metadata": {
  "kernelspec": {
   "display_name": "Python 3 (ipykernel)",
   "language": "python",
   "name": "python3"
  },
  "language_info": {
   "codemirror_mode": {
    "name": "ipython",
    "version": 3
   },
   "file_extension": ".py",
   "mimetype": "text/x-python",
   "name": "python",
   "nbconvert_exporter": "python",
   "pygments_lexer": "ipython3",
   "version": "3.8.13"
  }
 },
 "nbformat": 4,
 "nbformat_minor": 5
}
