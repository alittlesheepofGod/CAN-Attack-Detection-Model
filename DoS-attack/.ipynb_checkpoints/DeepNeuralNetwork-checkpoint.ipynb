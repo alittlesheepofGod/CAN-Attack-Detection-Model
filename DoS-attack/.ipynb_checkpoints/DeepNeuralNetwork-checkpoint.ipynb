{
 "cells": [
  {
   "cell_type": "markdown",
   "id": "22038775-d53d-4822-bddc-e8aae03f14db",
   "metadata": {},
   "source": [
    "# DoS Attack Dataset"
   ]
  },
  {
   "cell_type": "markdown",
   "id": "1f57944f-ce65-4920-8c08-9042eed2d3bb",
   "metadata": {},
   "source": [
    "## Import Libraries"
   ]
  },
  {
   "cell_type": "code",
   "execution_count": 6,
   "id": "fef96e7b-a569-492e-a288-ba500802b375",
   "metadata": {},
   "outputs": [],
   "source": [
    "# libraries for data analyze\n",
    "import pandas as pd \n",
    "import numpy as np \n",
    "import matplotlib.pyplot as plt \n",
    "from keras.wrappers.scikit_learn import KerasClassifier \n",
    "from keras.utils import np_utils"
   ]
  },
  {
   "cell_type": "code",
   "execution_count": 7,
   "id": "ea407e10-2385-4c5a-bd0d-bdf713e7ce52",
   "metadata": {},
   "outputs": [],
   "source": [
    "# libraries for modeling \n",
    "from keras.models import Sequential \n",
    "from keras.layers import Dense, Dropout\n",
    "from keras.callbacks import EarlyStopping "
   ]
  },
  {
   "cell_type": "markdown",
   "id": "c2251094-3469-4b6d-bbf9-0b5ad748f4c5",
   "metadata": {},
   "source": [
    "## Read Data"
   ]
  },
  {
   "cell_type": "code",
   "execution_count": 10,
   "id": "0f0b0883-6d20-40d7-8560-3904230b9a1b",
   "metadata": {},
   "outputs": [],
   "source": [
    "df = pd.read_csv(\"DoS_dataset.csv\", header=None)"
   ]
  },
  {
   "cell_type": "code",
   "execution_count": 11,
   "id": "4ed526ad-f96c-4d3d-98f1-28bb223acbbe",
   "metadata": {},
   "outputs": [
    {
     "data": {
      "text/html": [
       "<div>\n",
       "<style scoped>\n",
       "    .dataframe tbody tr th:only-of-type {\n",
       "        vertical-align: middle;\n",
       "    }\n",
       "\n",
       "    .dataframe tbody tr th {\n",
       "        vertical-align: top;\n",
       "    }\n",
       "\n",
       "    .dataframe thead th {\n",
       "        text-align: right;\n",
       "    }\n",
       "</style>\n",
       "<table border=\"1\" class=\"dataframe\">\n",
       "  <thead>\n",
       "    <tr style=\"text-align: right;\">\n",
       "      <th></th>\n",
       "      <th>0</th>\n",
       "      <th>1</th>\n",
       "      <th>2</th>\n",
       "      <th>3</th>\n",
       "      <th>4</th>\n",
       "      <th>5</th>\n",
       "      <th>6</th>\n",
       "      <th>7</th>\n",
       "      <th>8</th>\n",
       "      <th>9</th>\n",
       "      <th>10</th>\n",
       "      <th>11</th>\n",
       "    </tr>\n",
       "  </thead>\n",
       "  <tbody>\n",
       "    <tr>\n",
       "      <th>0</th>\n",
       "      <td>1.478198e+09</td>\n",
       "      <td>0316</td>\n",
       "      <td>8</td>\n",
       "      <td>05</td>\n",
       "      <td>21</td>\n",
       "      <td>68</td>\n",
       "      <td>09</td>\n",
       "      <td>21</td>\n",
       "      <td>21</td>\n",
       "      <td>00</td>\n",
       "      <td>6f</td>\n",
       "      <td>R</td>\n",
       "    </tr>\n",
       "    <tr>\n",
       "      <th>1</th>\n",
       "      <td>1.478198e+09</td>\n",
       "      <td>018f</td>\n",
       "      <td>8</td>\n",
       "      <td>fe</td>\n",
       "      <td>5b</td>\n",
       "      <td>00</td>\n",
       "      <td>00</td>\n",
       "      <td>00</td>\n",
       "      <td>3c</td>\n",
       "      <td>00</td>\n",
       "      <td>00</td>\n",
       "      <td>R</td>\n",
       "    </tr>\n",
       "    <tr>\n",
       "      <th>2</th>\n",
       "      <td>1.478198e+09</td>\n",
       "      <td>0260</td>\n",
       "      <td>8</td>\n",
       "      <td>19</td>\n",
       "      <td>21</td>\n",
       "      <td>22</td>\n",
       "      <td>30</td>\n",
       "      <td>08</td>\n",
       "      <td>8e</td>\n",
       "      <td>6d</td>\n",
       "      <td>3a</td>\n",
       "      <td>R</td>\n",
       "    </tr>\n",
       "    <tr>\n",
       "      <th>3</th>\n",
       "      <td>1.478198e+09</td>\n",
       "      <td>02a0</td>\n",
       "      <td>8</td>\n",
       "      <td>64</td>\n",
       "      <td>00</td>\n",
       "      <td>9a</td>\n",
       "      <td>1d</td>\n",
       "      <td>97</td>\n",
       "      <td>02</td>\n",
       "      <td>bd</td>\n",
       "      <td>00</td>\n",
       "      <td>R</td>\n",
       "    </tr>\n",
       "    <tr>\n",
       "      <th>4</th>\n",
       "      <td>1.478198e+09</td>\n",
       "      <td>0329</td>\n",
       "      <td>8</td>\n",
       "      <td>40</td>\n",
       "      <td>bb</td>\n",
       "      <td>7f</td>\n",
       "      <td>14</td>\n",
       "      <td>11</td>\n",
       "      <td>20</td>\n",
       "      <td>00</td>\n",
       "      <td>14</td>\n",
       "      <td>R</td>\n",
       "    </tr>\n",
       "    <tr>\n",
       "      <th>...</th>\n",
       "      <td>...</td>\n",
       "      <td>...</td>\n",
       "      <td>...</td>\n",
       "      <td>...</td>\n",
       "      <td>...</td>\n",
       "      <td>...</td>\n",
       "      <td>...</td>\n",
       "      <td>...</td>\n",
       "      <td>...</td>\n",
       "      <td>...</td>\n",
       "      <td>...</td>\n",
       "      <td>...</td>\n",
       "    </tr>\n",
       "    <tr>\n",
       "      <th>3665766</th>\n",
       "      <td>1.478201e+09</td>\n",
       "      <td>018f</td>\n",
       "      <td>8</td>\n",
       "      <td>fe</td>\n",
       "      <td>59</td>\n",
       "      <td>00</td>\n",
       "      <td>00</td>\n",
       "      <td>00</td>\n",
       "      <td>41</td>\n",
       "      <td>00</td>\n",
       "      <td>00</td>\n",
       "      <td>R</td>\n",
       "    </tr>\n",
       "    <tr>\n",
       "      <th>3665767</th>\n",
       "      <td>1.478201e+09</td>\n",
       "      <td>0260</td>\n",
       "      <td>8</td>\n",
       "      <td>18</td>\n",
       "      <td>21</td>\n",
       "      <td>21</td>\n",
       "      <td>30</td>\n",
       "      <td>08</td>\n",
       "      <td>8f</td>\n",
       "      <td>6d</td>\n",
       "      <td>19</td>\n",
       "      <td>R</td>\n",
       "    </tr>\n",
       "    <tr>\n",
       "      <th>3665768</th>\n",
       "      <td>1.478201e+09</td>\n",
       "      <td>02a0</td>\n",
       "      <td>8</td>\n",
       "      <td>24</td>\n",
       "      <td>00</td>\n",
       "      <td>9a</td>\n",
       "      <td>1d</td>\n",
       "      <td>97</td>\n",
       "      <td>02</td>\n",
       "      <td>bd</td>\n",
       "      <td>00</td>\n",
       "      <td>R</td>\n",
       "    </tr>\n",
       "    <tr>\n",
       "      <th>3665769</th>\n",
       "      <td>1.478201e+09</td>\n",
       "      <td>0329</td>\n",
       "      <td>8</td>\n",
       "      <td>dc</td>\n",
       "      <td>b7</td>\n",
       "      <td>7f</td>\n",
       "      <td>14</td>\n",
       "      <td>11</td>\n",
       "      <td>20</td>\n",
       "      <td>00</td>\n",
       "      <td>14</td>\n",
       "      <td>R</td>\n",
       "    </tr>\n",
       "    <tr>\n",
       "      <th>3665770</th>\n",
       "      <td>1.478201e+09</td>\n",
       "      <td>0545</td>\n",
       "      <td>8</td>\n",
       "      <td>d8</td>\n",
       "      <td>00</td>\n",
       "      <td>00</td>\n",
       "      <td>8b</td>\n",
       "      <td>00</td>\n",
       "      <td>00</td>\n",
       "      <td>00</td>\n",
       "      <td>00</td>\n",
       "      <td>R</td>\n",
       "    </tr>\n",
       "  </tbody>\n",
       "</table>\n",
       "<p>3665771 rows × 12 columns</p>\n",
       "</div>"
      ],
      "text/plain": [
       "                   0     1   2   3   4   5   6   7   8   9   10 11\n",
       "0        1.478198e+09  0316   8  05  21  68  09  21  21  00  6f  R\n",
       "1        1.478198e+09  018f   8  fe  5b  00  00  00  3c  00  00  R\n",
       "2        1.478198e+09  0260   8  19  21  22  30  08  8e  6d  3a  R\n",
       "3        1.478198e+09  02a0   8  64  00  9a  1d  97  02  bd  00  R\n",
       "4        1.478198e+09  0329   8  40  bb  7f  14  11  20  00  14  R\n",
       "...               ...   ...  ..  ..  ..  ..  ..  ..  ..  ..  .. ..\n",
       "3665766  1.478201e+09  018f   8  fe  59  00  00  00  41  00  00  R\n",
       "3665767  1.478201e+09  0260   8  18  21  21  30  08  8f  6d  19  R\n",
       "3665768  1.478201e+09  02a0   8  24  00  9a  1d  97  02  bd  00  R\n",
       "3665769  1.478201e+09  0329   8  dc  b7  7f  14  11  20  00  14  R\n",
       "3665770  1.478201e+09  0545   8  d8  00  00  8b  00  00  00  00  R\n",
       "\n",
       "[3665771 rows x 12 columns]"
      ]
     },
     "execution_count": 11,
     "metadata": {},
     "output_type": "execute_result"
    }
   ],
   "source": [
    "df"
   ]
  },
  {
   "cell_type": "code",
   "execution_count": 31,
   "id": "b9b3bce5-0143-4f41-852c-d6ba660f7bf4",
   "metadata": {},
   "outputs": [
    {
     "data": {
      "text/plain": [
       "<AxesSubplot:>"
      ]
     },
     "execution_count": 31,
     "metadata": {},
     "output_type": "execute_result"
    },
    {
     "data": {
      "image/png": "[encoded data removed]",
      "text/plain": [
       "<Figure size 720x720 with 1 Axes>"
      ]
     },
     "metadata": {
      "needs_background": "light"
     },
     "output_type": "display_data"
    }
   ],
   "source": [
    "df[11].hist(figsize=(10, 10))"
   ]
  },
  {
   "cell_type": "code",
   "execution_count": null,
   "id": "0582b225-d422-405a-ae96-006bedbb20d4",
   "metadata": {},
   "outputs": [],
   "source": []
  }
 ],
 "metadata": {
  "kernelspec": {
   "display_name": "Python 3 (ipykernel)",
   "language": "python",
   "name": "python3"
  },
  "language_info": {
   "codemirror_mode": {
    "name": "ipython",
    "version": 3
   },
   "file_extension": ".py",
   "mimetype": "text/x-python",
   "name": "python",
   "nbconvert_exporter": "python",
   "pygments_lexer": "ipython3",
   "version": "3.8.13"
  }
 },
 "nbformat": 4,
 "nbformat_minor": 5
}
