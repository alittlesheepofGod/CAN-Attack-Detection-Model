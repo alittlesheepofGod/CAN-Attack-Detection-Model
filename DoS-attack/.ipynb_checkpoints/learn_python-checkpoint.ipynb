{
 "cells": [
  {
   "cell_type": "code",
   "execution_count": 1,
   "id": "355e777f-a899-492c-b414-67694c421595",
   "metadata": {},
   "outputs": [],
   "source": [
    "def adder(x, y, z):\n",
    "    print(\"sum: \", x+y+z)"
   ]
  },
  {
   "cell_type": "code",
   "execution_count": 2,
   "id": "c1437ce9-4ee2-4108-a0a7-72c7ffe443db",
   "metadata": {},
   "outputs": [
    {
     "name": "stdout",
     "output_type": "stream",
     "text": [
      "sum:  36\n"
     ]
    }
   ],
   "source": [
    "adder(10, 12, 14)"
   ]
  },
  {
   "cell_type": "code",
   "execution_count": 3,
   "id": "c701b932-0083-4fb9-baae-73fc02594853",
   "metadata": {},
   "outputs": [],
   "source": [
    "# declaring byte value \n",
    "byte_val = b'\\x00\\x01'"
   ]
  },
  {
   "cell_type": "code",
   "execution_count": 4,
   "id": "ee84b379-29b8-4846-9d14-860c98c1e967",
   "metadata": {},
   "outputs": [
    {
     "data": {
      "text/plain": [
       "b'\\x00\\x01'"
      ]
     },
     "execution_count": 4,
     "metadata": {},
     "output_type": "execute_result"
    }
   ],
   "source": [
    "byte_val"
   ]
  },
  {
   "cell_type": "code",
   "execution_count": 5,
   "id": "0ef29d2a-5f2c-421b-a844-776c0eb7a50f",
   "metadata": {},
   "outputs": [
    {
     "data": {
      "text/plain": [
       "b''"
      ]
     },
     "execution_count": 5,
     "metadata": {},
     "output_type": "execute_result"
    }
   ],
   "source": [
    "bytes()"
   ]
  },
  {
   "cell_type": "code",
   "execution_count": 8,
   "id": "697a9b86-9144-4493-84b4-dbbbb1040159",
   "metadata": {},
   "outputs": [
    {
     "name": "stdout",
     "output_type": "stream",
     "text": [
      "b'\\x04'\n"
     ]
    }
   ],
   "source": [
    "a = 4\n",
    "\n",
    "print(bytes([a]))"
   ]
  },
  {
   "cell_type": "code",
   "execution_count": 10,
   "id": "97d5f6ac-7dd3-4f52-a6a0-4643ea45f2b2",
   "metadata": {},
   "outputs": [
    {
     "data": {
      "text/plain": [
       "4"
      ]
     },
     "execution_count": 10,
     "metadata": {},
     "output_type": "execute_result"
    }
   ],
   "source": [
    "import sys \n",
    "int.from_bytes(b'\\x04', byteorder=sys.byteorder)"
   ]
  },
  {
   "cell_type": "markdown",
   "id": "536d0c92-ec58-4509-9427-9b365a7f8202",
   "metadata": {},
   "source": [
    "# break statement python"
   ]
  },
  {
   "cell_type": "code",
   "execution_count": 11,
   "id": "41f96659-4371-480d-8c82-5539dd745a5c",
   "metadata": {},
   "outputs": [
    {
     "name": "stdout",
     "output_type": "stream",
     "text": [
      "Number is 0\n",
      "Number is 1\n",
      "Number is 2\n",
      "Number is 3\n",
      "Number is 4\n",
      "Out of loop\n"
     ]
    }
   ],
   "source": [
    "number = 0\n",
    "\n",
    "for number in range(10):\n",
    "    if number == 5:\n",
    "        break   # break here \n",
    "    print('Number is ' + str(number))\n",
    "    \n",
    "print('Out of loop')"
   ]
  },
  {
   "cell_type": "code",
   "execution_count": 12,
   "id": "c3c2d846-9e66-4b65-8854-279785951280",
   "metadata": {},
   "outputs": [
    {
     "name": "stdout",
     "output_type": "stream",
     "text": [
      "  first_set second_set\n",
      "0     Green     Yellow\n",
      "1     Green     Yellow\n",
      "2     Green     Yellow\n",
      "3      Blue      White\n",
      "4      Blue      White\n",
      "5       Red       Blue\n",
      "6       Red       Blue\n",
      "7       Red       Blue\n"
     ]
    }
   ],
   "source": [
    "import pandas as pd\n",
    "\n",
    "colors = {'first_set':  ['Green','Green','Green','Blue','Blue','Red','Red','Red'],\n",
    "          'second_set': ['Yellow','Yellow','Yellow','White','White','Blue','Blue','Blue']\n",
    "         }\n",
    "\n",
    "df = pd.DataFrame(colors, columns= ['first_set','second_set'])\n",
    "\n",
    "print (df)"
   ]
  },
  {
   "cell_type": "code",
   "execution_count": 13,
   "id": "0c29f2d0-364f-464b-9ed7-6036346aea0f",
   "metadata": {},
   "outputs": [],
   "source": [
    "df['first_set'] = df['first_set'].replace(['Green'],'Orange')"
   ]
  },
  {
   "cell_type": "code",
   "execution_count": 14,
   "id": "ee9935d6-c483-419d-ac5e-5f0f33ab6df8",
   "metadata": {},
   "outputs": [
    {
     "data": {
      "text/html": [
       "<div>\n",
       "<style scoped>\n",
       "    .dataframe tbody tr th:only-of-type {\n",
       "        vertical-align: middle;\n",
       "    }\n",
       "\n",
       "    .dataframe tbody tr th {\n",
       "        vertical-align: top;\n",
       "    }\n",
       "\n",
       "    .dataframe thead th {\n",
       "        text-align: right;\n",
       "    }\n",
       "</style>\n",
       "<table border=\"1\" class=\"dataframe\">\n",
       "  <thead>\n",
       "    <tr style=\"text-align: right;\">\n",
       "      <th></th>\n",
       "      <th>first_set</th>\n",
       "      <th>second_set</th>\n",
       "    </tr>\n",
       "  </thead>\n",
       "  <tbody>\n",
       "    <tr>\n",
       "      <th>0</th>\n",
       "      <td>Orange</td>\n",
       "      <td>Yellow</td>\n",
       "    </tr>\n",
       "    <tr>\n",
       "      <th>1</th>\n",
       "      <td>Orange</td>\n",
       "      <td>Yellow</td>\n",
       "    </tr>\n",
       "    <tr>\n",
       "      <th>2</th>\n",
       "      <td>Orange</td>\n",
       "      <td>Yellow</td>\n",
       "    </tr>\n",
       "    <tr>\n",
       "      <th>3</th>\n",
       "      <td>Blue</td>\n",
       "      <td>White</td>\n",
       "    </tr>\n",
       "    <tr>\n",
       "      <th>4</th>\n",
       "      <td>Blue</td>\n",
       "      <td>White</td>\n",
       "    </tr>\n",
       "    <tr>\n",
       "      <th>5</th>\n",
       "      <td>Red</td>\n",
       "      <td>Blue</td>\n",
       "    </tr>\n",
       "    <tr>\n",
       "      <th>6</th>\n",
       "      <td>Red</td>\n",
       "      <td>Blue</td>\n",
       "    </tr>\n",
       "    <tr>\n",
       "      <th>7</th>\n",
       "      <td>Red</td>\n",
       "      <td>Blue</td>\n",
       "    </tr>\n",
       "  </tbody>\n",
       "</table>\n",
       "</div>"
      ],
      "text/plain": [
       "  first_set second_set\n",
       "0    Orange     Yellow\n",
       "1    Orange     Yellow\n",
       "2    Orange     Yellow\n",
       "3      Blue      White\n",
       "4      Blue      White\n",
       "5       Red       Blue\n",
       "6       Red       Blue\n",
       "7       Red       Blue"
      ]
     },
     "execution_count": 14,
     "metadata": {},
     "output_type": "execute_result"
    }
   ],
   "source": [
    "df"
   ]
  },
  {
   "cell_type": "markdown",
   "id": "89a1eff5-218a-4e65-a6bb-20ecb12ff12c",
   "metadata": {},
   "source": [
    "# Python Function Arguments"
   ]
  },
  {
   "cell_type": "code",
   "execution_count": 7,
   "id": "bfa1ed14-4db4-4e0c-91b4-7c15a552c5d5",
   "metadata": {},
   "outputs": [
    {
     "name": "stdout",
     "output_type": "stream",
     "text": [
      "12Refsnes\n"
     ]
    }
   ],
   "source": [
    "def my_function(fname):\n",
    "    print(str(fname) + \"Refsnes\")\n",
    "\n",
    "my_function(12)"
   ]
  },
  {
   "cell_type": "markdown",
   "id": "c81b1b36-97a9-4074-a621-76001e728b21",
   "metadata": {},
   "source": [
    "# Pandas Convert Object to Float"
   ]
  },
  {
   "cell_type": "code",
   "execution_count": 1,
   "id": "61b88ffd-28c0-4da9-a07b-d3deb89e8a34",
   "metadata": {},
   "outputs": [
    {
     "name": "stdout",
     "output_type": "stream",
     "text": [
      "<class 'pandas.core.frame.DataFrame'>\n",
      "RangeIndex: 3 entries, 0 to 2\n",
      "Data columns (total 4 columns):\n",
      " #   Column  Non-Null Count  Dtype \n",
      "---  ------  --------------  ----- \n",
      " 0   a       3 non-null      object\n",
      " 1   b       3 non-null      int64 \n",
      " 2   c       3 non-null      int64 \n",
      " 3   d       3 non-null      int64 \n",
      "dtypes: int64(3), object(1)\n",
      "memory usage: 224.0+ bytes\n",
      "None\n"
     ]
    }
   ],
   "source": [
    "import pandas as pd \n",
    "\n",
    "df = pd.DataFrame([['10.0' ,6,7,8],\n",
    "                   ['1.0' ,9,12,14],\n",
    "                   ['5.0' ,8,10,6]],\n",
    "                  columns = ['a','b','c','d'])\n",
    "\n",
    "print(df.info())"
   ]
  },
  {
   "cell_type": "code",
   "execution_count": 2,
   "id": "31fe6dec-861e-43b7-b230-5d25fbbd2977",
   "metadata": {},
   "outputs": [
    {
     "data": {
      "text/html": [
       "<div>\n",
       "<style scoped>\n",
       "    .dataframe tbody tr th:only-of-type {\n",
       "        vertical-align: middle;\n",
       "    }\n",
       "\n",
       "    .dataframe tbody tr th {\n",
       "        vertical-align: top;\n",
       "    }\n",
       "\n",
       "    .dataframe thead th {\n",
       "        text-align: right;\n",
       "    }\n",
       "</style>\n",
       "<table border=\"1\" class=\"dataframe\">\n",
       "  <thead>\n",
       "    <tr style=\"text-align: right;\">\n",
       "      <th></th>\n",
       "      <th>a</th>\n",
       "      <th>b</th>\n",
       "      <th>c</th>\n",
       "      <th>d</th>\n",
       "    </tr>\n",
       "  </thead>\n",
       "  <tbody>\n",
       "    <tr>\n",
       "      <th>0</th>\n",
       "      <td>10.0</td>\n",
       "      <td>6</td>\n",
       "      <td>7</td>\n",
       "      <td>8</td>\n",
       "    </tr>\n",
       "    <tr>\n",
       "      <th>1</th>\n",
       "      <td>1.0</td>\n",
       "      <td>9</td>\n",
       "      <td>12</td>\n",
       "      <td>14</td>\n",
       "    </tr>\n",
       "    <tr>\n",
       "      <th>2</th>\n",
       "      <td>5.0</td>\n",
       "      <td>8</td>\n",
       "      <td>10</td>\n",
       "      <td>6</td>\n",
       "    </tr>\n",
       "  </tbody>\n",
       "</table>\n",
       "</div>"
      ],
      "text/plain": [
       "      a  b   c   d\n",
       "0  10.0  6   7   8\n",
       "1   1.0  9  12  14\n",
       "2   5.0  8  10   6"
      ]
     },
     "execution_count": 2,
     "metadata": {},
     "output_type": "execute_result"
    }
   ],
   "source": [
    "df"
   ]
  },
  {
   "cell_type": "code",
   "execution_count": 3,
   "id": "1c559261-4b72-454e-8914-95e864490b02",
   "metadata": {},
   "outputs": [
    {
     "name": "stdout",
     "output_type": "stream",
     "text": [
      "<class 'pandas.core.frame.DataFrame'>\n",
      "RangeIndex: 3 entries, 0 to 2\n",
      "Data columns (total 4 columns):\n",
      " #   Column  Non-Null Count  Dtype  \n",
      "---  ------  --------------  -----  \n",
      " 0   a       3 non-null      float64\n",
      " 1   b       3 non-null      int64  \n",
      " 2   c       3 non-null      int64  \n",
      " 3   d       3 non-null      int64  \n",
      "dtypes: float64(1), int64(3)\n",
      "memory usage: 224.0 bytes\n",
      "None\n"
     ]
    }
   ],
   "source": [
    "import pandas as pd \n",
    "\n",
    "df = pd.DataFrame([['10.0' ,6,7,8],\n",
    "                   ['1.0' ,9,12,14],\n",
    "                   ['5.0' ,8,10,6]],\n",
    "                  columns = ['a','b','c','d'])\n",
    "\n",
    "df['a'] = df['a'].astype(float, errors='raise')\n",
    "\n",
    "print(df.info())"
   ]
  },
  {
   "cell_type": "markdown",
   "id": "d4b77859-1be1-421c-9864-1eae70d0a7a2",
   "metadata": {},
   "source": [
    "# Learn OOP Python Interface"
   ]
  },
  {
   "cell_type": "code",
   "execution_count": 2,
   "id": "6ddd85c4-b668-412b-b00b-bb188e8fca2c",
   "metadata": {},
   "outputs": [
    {
     "name": "stdout",
     "output_type": "stream",
     "text": [
      "True\n",
      "<class 'zope.interface.interface.Method'>\n",
      "<class 'zope.interface.interface.Method'>\n"
     ]
    }
   ],
   "source": [
    "import zope.interface \n",
    "\n",
    "# interface\n",
    "class Lunch(zope.interface.Interface):\n",
    "    northindian = zope.interface.Attribute(\"chocolate\")\n",
    "    def food(self, northindian):\n",
    "        pass\n",
    "    def colddrinks(self, beverages): \n",
    "        pass\n",
    "\n",
    "@zope.interface.implementer(Lunch) \n",
    "\n",
    "class Lunch(zope.interface.Interface): \n",
    "    def food(self, northindian):\n",
    "        return northindian\n",
    "    def colddrinks(self,beverages):\n",
    "        return beverages\n",
    "\n",
    "colddrinks = Lunch['colddrinks'] \n",
    "food = Lunch['food']\n",
    "print(Lunch.implementedBy(Lunch))\n",
    "print(type(colddrinks))\n",
    "print(type(food))\n",
    "\n",
    "    "
   ]
  },
  {
   "cell_type": "code",
   "execution_count": null,
   "id": "b9d59b5b-7a51-4bc7-bb68-b90de7fa20b6",
   "metadata": {},
   "outputs": [],
   "source": []
  },
  {
   "cell_type": "markdown",
   "id": "617d6e01-4b0e-4aea-a0be-56600789cc6f",
   "metadata": {},
   "source": [
    "# Some Practical Examples of Decorators - Memoization "
   ]
  },
  {
   "cell_type": "code",
   "execution_count": 3,
   "id": "3e44dcc7-ccd9-4a05-a6d1-aef5cf694d73",
   "metadata": {},
   "outputs": [
    {
     "name": "stdout",
     "output_type": "stream",
     "text": [
      "Hello World!\n"
     ]
    }
   ],
   "source": [
    "import pickle \n",
    "import hashlib \n",
    "\n",
    "MEMO = {} # To remember the function input and output \n"
   ]
  },
  {
   "cell_type": "code",
   "execution_count": 11,
   "id": "910a600f-5f98-4671-87af-78893e490819",
   "metadata": {},
   "outputs": [
    {
     "name": "stdout",
     "output_type": "stream",
     "text": [
      "x.sum(): 7.257238376354285\n",
      "\n",
      "y.sum(): A    3.395731\n",
      "B    3.437483\n",
      "C    0.424025\n",
      "dtype: float64\n",
      "A    3.395731\n",
      "B    3.437483\n",
      "C    0.424025\n",
      "dtype: float64\n",
      "\n",
      "numpysum(x): 7.2572\n",
      "numpysum(y): 7.2572\n"
     ]
    }
   ],
   "source": [
    "import numpy as np\n",
    "import pandas as pd\n",
    " \n",
    "# function decorator to ensure numpy input\n",
    "# and round off output to 4 decimal places\n",
    "def ensure_numpy(fn):\n",
    "    def decorated_function(data):\n",
    "        array = np.asarray(data)\n",
    "        output = fn(array)\n",
    "        return np.around(output, 4)\n",
    "    return decorated_function\n",
    "\n",
    "def print_something(fn):\n",
    "    def decorated_function(data):\n",
    "        print(\"Test second decorator\")\n",
    "        return 1\n",
    "    return decorated_function\n",
    "\n",
    "@ensure_numpy\n",
    "def numpysum(array):\n",
    "    return array.sum()\n",
    "\n",
    "@print_something\n",
    "def numpysum(array):\n",
    "    return array.sum()\n",
    "\n",
    "x = np.random.randn(10,3)\n",
    "y = pd.DataFrame(x, columns=[\"A\", \"B\", \"C\"])\n",
    " \n",
    "# output of numpy .sum() function\n",
    "print(\"x.sum():\", x.sum())\n",
    "print()\n",
    " \n",
    "# output of pandas .sum() funuction\n",
    "print(\"y.sum():\", y.sum())\n",
    "print(y.sum())\n",
    "print()\n",
    " \n",
    "# calling decorated numpysum function\n",
    "print(\"numpysum(x):\", numpysum(x))\n",
    "print(\"numpysum(y):\", numpysum(y))"
   ]
  },
  {
   "cell_type": "code",
   "execution_count": 9,
   "id": "14ebbd77-8f45-471d-87c8-373a4726a8d3",
   "metadata": {},
   "outputs": [
    {
     "data": {
      "text/plain": [
       "array([[-0.26574988,  0.14197645,  0.9894694 ],\n",
       "       [-2.03014921,  0.46820359,  0.92258518],\n",
       "       [ 0.25534273,  0.78811032, -0.47353794],\n",
       "       [-0.05161386,  0.43509281, -0.2533065 ],\n",
       "       [ 1.52837581, -0.87575828, -1.09518682],\n",
       "       [-0.03027438,  0.02357481, -0.95553191],\n",
       "       [ 0.05483391,  1.09811411,  0.47453039],\n",
       "       [ 0.93793149, -0.11620786,  0.43739562],\n",
       "       [-1.15138699, -0.30728306, -0.67041282],\n",
       "       [ 0.19514206,  0.47191872, -0.46852396]])"
      ]
     },
     "execution_count": 9,
     "metadata": {},
     "output_type": "execute_result"
    }
   ],
   "source": [
    "x"
   ]
  },
  {
   "cell_type": "code",
   "execution_count": 10,
   "id": "cdbd61dc-7da5-4bb8-a6eb-593345f872b2",
   "metadata": {},
   "outputs": [
    {
     "data": {
      "text/html": [
       "<div>\n",
       "<style scoped>\n",
       "    .dataframe tbody tr th:only-of-type {\n",
       "        vertical-align: middle;\n",
       "    }\n",
       "\n",
       "    .dataframe tbody tr th {\n",
       "        vertical-align: top;\n",
       "    }\n",
       "\n",
       "    .dataframe thead th {\n",
       "        text-align: right;\n",
       "    }\n",
       "</style>\n",
       "<table border=\"1\" class=\"dataframe\">\n",
       "  <thead>\n",
       "    <tr style=\"text-align: right;\">\n",
       "      <th></th>\n",
       "      <th>A</th>\n",
       "      <th>B</th>\n",
       "      <th>C</th>\n",
       "    </tr>\n",
       "  </thead>\n",
       "  <tbody>\n",
       "    <tr>\n",
       "      <th>0</th>\n",
       "      <td>-0.265750</td>\n",
       "      <td>0.141976</td>\n",
       "      <td>0.989469</td>\n",
       "    </tr>\n",
       "    <tr>\n",
       "      <th>1</th>\n",
       "      <td>-2.030149</td>\n",
       "      <td>0.468204</td>\n",
       "      <td>0.922585</td>\n",
       "    </tr>\n",
       "    <tr>\n",
       "      <th>2</th>\n",
       "      <td>0.255343</td>\n",
       "      <td>0.788110</td>\n",
       "      <td>-0.473538</td>\n",
       "    </tr>\n",
       "    <tr>\n",
       "      <th>3</th>\n",
       "      <td>-0.051614</td>\n",
       "      <td>0.435093</td>\n",
       "      <td>-0.253307</td>\n",
       "    </tr>\n",
       "    <tr>\n",
       "      <th>4</th>\n",
       "      <td>1.528376</td>\n",
       "      <td>-0.875758</td>\n",
       "      <td>-1.095187</td>\n",
       "    </tr>\n",
       "    <tr>\n",
       "      <th>5</th>\n",
       "      <td>-0.030274</td>\n",
       "      <td>0.023575</td>\n",
       "      <td>-0.955532</td>\n",
       "    </tr>\n",
       "    <tr>\n",
       "      <th>6</th>\n",
       "      <td>0.054834</td>\n",
       "      <td>1.098114</td>\n",
       "      <td>0.474530</td>\n",
       "    </tr>\n",
       "    <tr>\n",
       "      <th>7</th>\n",
       "      <td>0.937931</td>\n",
       "      <td>-0.116208</td>\n",
       "      <td>0.437396</td>\n",
       "    </tr>\n",
       "    <tr>\n",
       "      <th>8</th>\n",
       "      <td>-1.151387</td>\n",
       "      <td>-0.307283</td>\n",
       "      <td>-0.670413</td>\n",
       "    </tr>\n",
       "    <tr>\n",
       "      <th>9</th>\n",
       "      <td>0.195142</td>\n",
       "      <td>0.471919</td>\n",
       "      <td>-0.468524</td>\n",
       "    </tr>\n",
       "  </tbody>\n",
       "</table>\n",
       "</div>"
      ],
      "text/plain": [
       "          A         B         C\n",
       "0 -0.265750  0.141976  0.989469\n",
       "1 -2.030149  0.468204  0.922585\n",
       "2  0.255343  0.788110 -0.473538\n",
       "3 -0.051614  0.435093 -0.253307\n",
       "4  1.528376 -0.875758 -1.095187\n",
       "5 -0.030274  0.023575 -0.955532\n",
       "6  0.054834  1.098114  0.474530\n",
       "7  0.937931 -0.116208  0.437396\n",
       "8 -1.151387 -0.307283 -0.670413\n",
       "9  0.195142  0.471919 -0.468524"
      ]
     },
     "execution_count": 10,
     "metadata": {},
     "output_type": "execute_result"
    }
   ],
   "source": [
    "y"
   ]
  },
  {
   "cell_type": "markdown",
   "id": "a5d0e0b2-4ab7-498c-9d4f-4387685bdb9a",
   "metadata": {},
   "source": [
    "# Decorator"
   ]
  },
  {
   "cell_type": "code",
   "execution_count": 32,
   "id": "d3db670b-512a-405e-b447-85f4418803ae",
   "metadata": {},
   "outputs": [],
   "source": [
    "def smart_divide(func):\n",
    "    def inner(a, b):\n",
    "        print(\"I am going to divide\", a, \"and\", b)\n",
    "        if b == 0:\n",
    "            print(\"Whoops! cannot divide thir\")\n",
    "            return \n",
    "        \n",
    "        return func(a, b)\n",
    "    return inner \n",
    "\n",
    "def second_decorator(func):\n",
    "    def inner(a, b):\n",
    "        print(\"meow meow\")\n",
    "        return \n",
    "    return inner\n",
    "\n",
    "def third_decorator(func):\n",
    "    def inner(a, b):\n",
    "        print(\"third decorator\")\n",
    "    return inner \n",
    "\n",
    "@smart_divide\n",
    "def divide(a, b):\n",
    "    print(a/b)\n",
    "    \n",
    "@second_decorator\n",
    "def divide(a, b):\n",
    "    print(a/b)\n",
    "    \n",
    "@third_decorator\n",
    "def divide(a, b):\n",
    "    print(a/b)"
   ]
  },
  {
   "cell_type": "code",
   "execution_count": 33,
   "id": "593c48e8-1c22-4b37-995f-85124354af33",
   "metadata": {},
   "outputs": [
    {
     "name": "stdout",
     "output_type": "stream",
     "text": [
      "third decorator\n"
     ]
    }
   ],
   "source": [
    "divide(2, 5)"
   ]
  },
  {
   "cell_type": "code",
   "execution_count": 34,
   "id": "dd12da80-db6f-4e04-903e-52023104e676",
   "metadata": {},
   "outputs": [
    {
     "name": "stdout",
     "output_type": "stream",
     "text": [
      "third decorator\n",
      "third decorator\n",
      "third decorator\n"
     ]
    }
   ],
   "source": [
    "divide(4, 5)\n",
    "divide(7, 8)\n",
    "divide(3, 5)"
   ]
  },
  {
   "cell_type": "markdown",
   "id": "cca39559-4f67-4422-8010-6544fd60f12f",
   "metadata": {},
   "source": [
    "# pandas.DataFrame.rename"
   ]
  },
  {
   "cell_type": "code",
   "execution_count": 3,
   "id": "2a4280d1-1c5e-4d8a-9631-d374fba1d96a",
   "metadata": {},
   "outputs": [],
   "source": [
    "import pandas as pd \n",
    "df = pd.DataFrame({\"A\": [1, 2, 3], \"B\": [4, 5, 6]})"
   ]
  },
  {
   "cell_type": "code",
   "execution_count": 4,
   "id": "1aa193b7-7709-4f50-9a86-475599b3c800",
   "metadata": {},
   "outputs": [
    {
     "data": {
      "text/html": [
       "<div>\n",
       "<style scoped>\n",
       "    .dataframe tbody tr th:only-of-type {\n",
       "        vertical-align: middle;\n",
       "    }\n",
       "\n",
       "    .dataframe tbody tr th {\n",
       "        vertical-align: top;\n",
       "    }\n",
       "\n",
       "    .dataframe thead th {\n",
       "        text-align: right;\n",
       "    }\n",
       "</style>\n",
       "<table border=\"1\" class=\"dataframe\">\n",
       "  <thead>\n",
       "    <tr style=\"text-align: right;\">\n",
       "      <th></th>\n",
       "      <th>A</th>\n",
       "      <th>B</th>\n",
       "    </tr>\n",
       "  </thead>\n",
       "  <tbody>\n",
       "    <tr>\n",
       "      <th>0</th>\n",
       "      <td>1</td>\n",
       "      <td>4</td>\n",
       "    </tr>\n",
       "    <tr>\n",
       "      <th>1</th>\n",
       "      <td>2</td>\n",
       "      <td>5</td>\n",
       "    </tr>\n",
       "    <tr>\n",
       "      <th>2</th>\n",
       "      <td>3</td>\n",
       "      <td>6</td>\n",
       "    </tr>\n",
       "  </tbody>\n",
       "</table>\n",
       "</div>"
      ],
      "text/plain": [
       "   A  B\n",
       "0  1  4\n",
       "1  2  5\n",
       "2  3  6"
      ]
     },
     "execution_count": 4,
     "metadata": {},
     "output_type": "execute_result"
    }
   ],
   "source": [
    "df"
   ]
  },
  {
   "cell_type": "code",
   "execution_count": 5,
   "id": "cf52029b-76e2-466e-8fe3-a3e354411abe",
   "metadata": {},
   "outputs": [
    {
     "data": {
      "text/html": [
       "<div>\n",
       "<style scoped>\n",
       "    .dataframe tbody tr th:only-of-type {\n",
       "        vertical-align: middle;\n",
       "    }\n",
       "\n",
       "    .dataframe tbody tr th {\n",
       "        vertical-align: top;\n",
       "    }\n",
       "\n",
       "    .dataframe thead th {\n",
       "        text-align: right;\n",
       "    }\n",
       "</style>\n",
       "<table border=\"1\" class=\"dataframe\">\n",
       "  <thead>\n",
       "    <tr style=\"text-align: right;\">\n",
       "      <th></th>\n",
       "      <th>a</th>\n",
       "      <th>c</th>\n",
       "    </tr>\n",
       "  </thead>\n",
       "  <tbody>\n",
       "    <tr>\n",
       "      <th>0</th>\n",
       "      <td>1</td>\n",
       "      <td>4</td>\n",
       "    </tr>\n",
       "    <tr>\n",
       "      <th>1</th>\n",
       "      <td>2</td>\n",
       "      <td>5</td>\n",
       "    </tr>\n",
       "    <tr>\n",
       "      <th>2</th>\n",
       "      <td>3</td>\n",
       "      <td>6</td>\n",
       "    </tr>\n",
       "  </tbody>\n",
       "</table>\n",
       "</div>"
      ],
      "text/plain": [
       "   a  c\n",
       "0  1  4\n",
       "1  2  5\n",
       "2  3  6"
      ]
     },
     "execution_count": 5,
     "metadata": {},
     "output_type": "execute_result"
    }
   ],
   "source": [
    "df.rename(columns={\"A\":\"a\", \"B\":\"c\"})"
   ]
  },
  {
   "cell_type": "code",
   "execution_count": null,
   "id": "ebc0287d-efd9-4c20-bce9-1155e71c9a6f",
   "metadata": {},
   "outputs": [],
   "source": []
  }
 ],
 "metadata": {
  "kernelspec": {
   "display_name": "Python 3 (ipykernel)",
   "language": "python",
   "name": "python3"
  },
  "language_info": {
   "codemirror_mode": {
    "name": "ipython",
    "version": 3
   },
   "file_extension": ".py",
   "mimetype": "text/x-python",
   "name": "python",
   "nbconvert_exporter": "python",
   "pygments_lexer": "ipython3",
   "version": "3.8.13"
  },
  "vscode": {
   "interpreter": {
    "hash": "916dbcbb3f70747c44a77c7bcd40155683ae19c65e1c03b4aa3499c5328201f1"
   }
  }
 },
 "nbformat": 4,
 "nbformat_minor": 5
}
