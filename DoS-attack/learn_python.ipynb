{
 "cells": [
  {
   "cell_type": "code",
   "execution_count": 1,
   "id": "355e777f-a899-492c-b414-67694c421595",
   "metadata": {},
   "outputs": [],
   "source": [
    "def adder(x, y, z):\n",
    "    print(\"sum: \", x+y+z)"
   ]
  },
  {
   "cell_type": "code",
   "execution_count": 2,
   "id": "c1437ce9-4ee2-4108-a0a7-72c7ffe443db",
   "metadata": {},
   "outputs": [
    {
     "name": "stdout",
     "output_type": "stream",
     "text": [
      "sum:  36\n"
     ]
    }
   ],
   "source": [
    "adder(10, 12, 14)"
   ]
  },
  {
   "cell_type": "code",
   "execution_count": 3,
   "id": "c701b932-0083-4fb9-baae-73fc02594853",
   "metadata": {},
   "outputs": [],
   "source": [
    "# declaring byte value \n",
    "byte_val = b'\\x00\\x01'"
   ]
  },
  {
   "cell_type": "code",
   "execution_count": 4,
   "id": "ee84b379-29b8-4846-9d14-860c98c1e967",
   "metadata": {},
   "outputs": [
    {
     "data": {
      "text/plain": [
       "b'\\x00\\x01'"
      ]
     },
     "execution_count": 4,
     "metadata": {},
     "output_type": "execute_result"
    }
   ],
   "source": [
    "byte_val"
   ]
  },
  {
   "cell_type": "code",
   "execution_count": 5,
   "id": "0ef29d2a-5f2c-421b-a844-776c0eb7a50f",
   "metadata": {},
   "outputs": [
    {
     "data": {
      "text/plain": [
       "b''"
      ]
     },
     "execution_count": 5,
     "metadata": {},
     "output_type": "execute_result"
    }
   ],
   "source": [
    "bytes()"
   ]
  },
  {
   "cell_type": "code",
   "execution_count": 8,
   "id": "697a9b86-9144-4493-84b4-dbbbb1040159",
   "metadata": {},
   "outputs": [
    {
     "name": "stdout",
     "output_type": "stream",
     "text": [
      "b'\\x04'\n"
     ]
    }
   ],
   "source": [
    "a = 4\n",
    "\n",
    "print(bytes([a]))"
   ]
  },
  {
   "cell_type": "code",
   "execution_count": 10,
   "id": "97d5f6ac-7dd3-4f52-a6a0-4643ea45f2b2",
   "metadata": {},
   "outputs": [
    {
     "data": {
      "text/plain": [
       "4"
      ]
     },
     "execution_count": 10,
     "metadata": {},
     "output_type": "execute_result"
    }
   ],
   "source": [
    "import sys \n",
    "int.from_bytes(b'\\x04', byteorder=sys.byteorder)"
   ]
  },
  {
   "cell_type": "markdown",
   "id": "536d0c92-ec58-4509-9427-9b365a7f8202",
   "metadata": {},
   "source": [
    "# break statement python"
   ]
  },
  {
   "cell_type": "code",
   "execution_count": 11,
   "id": "41f96659-4371-480d-8c82-5539dd745a5c",
   "metadata": {},
   "outputs": [
    {
     "name": "stdout",
     "output_type": "stream",
     "text": [
      "Number is 0\n",
      "Number is 1\n",
      "Number is 2\n",
      "Number is 3\n",
      "Number is 4\n",
      "Out of loop\n"
     ]
    }
   ],
   "source": [
    "number = 0\n",
    "\n",
    "for number in range(10):\n",
    "    if number == 5:\n",
    "        break   # break here \n",
    "    print('Number is ' + str(number))\n",
    "    \n",
    "print('Out of loop')"
   ]
  },
  {
   "cell_type": "code",
   "execution_count": 12,
   "id": "c3c2d846-9e66-4b65-8854-279785951280",
   "metadata": {},
   "outputs": [
    {
     "name": "stdout",
     "output_type": "stream",
     "text": [
      "  first_set second_set\n",
      "0     Green     Yellow\n",
      "1     Green     Yellow\n",
      "2     Green     Yellow\n",
      "3      Blue      White\n",
      "4      Blue      White\n",
      "5       Red       Blue\n",
      "6       Red       Blue\n",
      "7       Red       Blue\n"
     ]
    }
   ],
   "source": [
    "import pandas as pd\n",
    "\n",
    "colors = {'first_set':  ['Green','Green','Green','Blue','Blue','Red','Red','Red'],\n",
    "          'second_set': ['Yellow','Yellow','Yellow','White','White','Blue','Blue','Blue']\n",
    "         }\n",
    "\n",
    "df = pd.DataFrame(colors, columns= ['first_set','second_set'])\n",
    "\n",
    "print (df)"
   ]
  },
  {
   "cell_type": "code",
   "execution_count": 13,
   "id": "0c29f2d0-364f-464b-9ed7-6036346aea0f",
   "metadata": {},
   "outputs": [],
   "source": [
    "df['first_set'] = df['first_set'].replace(['Green'],'Orange')"
   ]
  },
  {
   "cell_type": "code",
   "execution_count": 14,
   "id": "ee9935d6-c483-419d-ac5e-5f0f33ab6df8",
   "metadata": {},
   "outputs": [
    {
     "data": {
      "text/html": [
       "<div>\n",
       "<style scoped>\n",
       "    .dataframe tbody tr th:only-of-type {\n",
       "        vertical-align: middle;\n",
       "    }\n",
       "\n",
       "    .dataframe tbody tr th {\n",
       "        vertical-align: top;\n",
       "    }\n",
       "\n",
       "    .dataframe thead th {\n",
       "        text-align: right;\n",
       "    }\n",
       "</style>\n",
       "<table border=\"1\" class=\"dataframe\">\n",
       "  <thead>\n",
       "    <tr style=\"text-align: right;\">\n",
       "      <th></th>\n",
       "      <th>first_set</th>\n",
       "      <th>second_set</th>\n",
       "    </tr>\n",
       "  </thead>\n",
       "  <tbody>\n",
       "    <tr>\n",
       "      <th>0</th>\n",
       "      <td>Orange</td>\n",
       "      <td>Yellow</td>\n",
       "    </tr>\n",
       "    <tr>\n",
       "      <th>1</th>\n",
       "      <td>Orange</td>\n",
       "      <td>Yellow</td>\n",
       "    </tr>\n",
       "    <tr>\n",
       "      <th>2</th>\n",
       "      <td>Orange</td>\n",
       "      <td>Yellow</td>\n",
       "    </tr>\n",
       "    <tr>\n",
       "      <th>3</th>\n",
       "      <td>Blue</td>\n",
       "      <td>White</td>\n",
       "    </tr>\n",
       "    <tr>\n",
       "      <th>4</th>\n",
       "      <td>Blue</td>\n",
       "      <td>White</td>\n",
       "    </tr>\n",
       "    <tr>\n",
       "      <th>5</th>\n",
       "      <td>Red</td>\n",
       "      <td>Blue</td>\n",
       "    </tr>\n",
       "    <tr>\n",
       "      <th>6</th>\n",
       "      <td>Red</td>\n",
       "      <td>Blue</td>\n",
       "    </tr>\n",
       "    <tr>\n",
       "      <th>7</th>\n",
       "      <td>Red</td>\n",
       "      <td>Blue</td>\n",
       "    </tr>\n",
       "  </tbody>\n",
       "</table>\n",
       "</div>"
      ],
      "text/plain": [
       "  first_set second_set\n",
       "0    Orange     Yellow\n",
       "1    Orange     Yellow\n",
       "2    Orange     Yellow\n",
       "3      Blue      White\n",
       "4      Blue      White\n",
       "5       Red       Blue\n",
       "6       Red       Blue\n",
       "7       Red       Blue"
      ]
     },
     "execution_count": 14,
     "metadata": {},
     "output_type": "execute_result"
    }
   ],
   "source": [
    "df"
   ]
  },
  {
   "cell_type": "markdown",
   "id": "89a1eff5-218a-4e65-a6bb-20ecb12ff12c",
   "metadata": {},
   "source": [
    "# Python Function Arguments"
   ]
  },
  {
   "cell_type": "code",
   "execution_count": 7,
   "id": "bfa1ed14-4db4-4e0c-91b4-7c15a552c5d5",
   "metadata": {},
   "outputs": [
    {
     "name": "stdout",
     "output_type": "stream",
     "text": [
      "12Refsnes\n"
     ]
    }
   ],
   "source": [
    "def my_function(fname):\n",
    "    print(str(fname) + \"Refsnes\")\n",
    "\n",
    "my_function(12)"
   ]
  },
  {
   "cell_type": "markdown",
   "id": "c81b1b36-97a9-4074-a621-76001e728b21",
   "metadata": {},
   "source": [
    "# Pandas Convert Object to Float"
   ]
  },
  {
   "cell_type": "code",
   "execution_count": 1,
   "id": "61b88ffd-28c0-4da9-a07b-d3deb89e8a34",
   "metadata": {},
   "outputs": [
    {
     "name": "stdout",
     "output_type": "stream",
     "text": [
      "<class 'pandas.core.frame.DataFrame'>\n",
      "RangeIndex: 3 entries, 0 to 2\n",
      "Data columns (total 4 columns):\n",
      " #   Column  Non-Null Count  Dtype \n",
      "---  ------  --------------  ----- \n",
      " 0   a       3 non-null      object\n",
      " 1   b       3 non-null      int64 \n",
      " 2   c       3 non-null      int64 \n",
      " 3   d       3 non-null      int64 \n",
      "dtypes: int64(3), object(1)\n",
      "memory usage: 224.0+ bytes\n",
      "None\n"
     ]
    }
   ],
   "source": [
    "import pandas as pd \n",
    "\n",
    "df = pd.DataFrame([['10.0' ,6,7,8],\n",
    "                   ['1.0' ,9,12,14],\n",
    "                   ['5.0' ,8,10,6]],\n",
    "                  columns = ['a','b','c','d'])\n",
    "\n",
    "print(df.info())"
   ]
  },
  {
   "cell_type": "code",
   "execution_count": 2,
   "id": "31fe6dec-861e-43b7-b230-5d25fbbd2977",
   "metadata": {},
   "outputs": [
    {
     "data": {
      "text/html": [
       "<div>\n",
       "<style scoped>\n",
       "    .dataframe tbody tr th:only-of-type {\n",
       "        vertical-align: middle;\n",
       "    }\n",
       "\n",
       "    .dataframe tbody tr th {\n",
       "        vertical-align: top;\n",
       "    }\n",
       "\n",
       "    .dataframe thead th {\n",
       "        text-align: right;\n",
       "    }\n",
       "</style>\n",
       "<table border=\"1\" class=\"dataframe\">\n",
       "  <thead>\n",
       "    <tr style=\"text-align: right;\">\n",
       "      <th></th>\n",
       "      <th>a</th>\n",
       "      <th>b</th>\n",
       "      <th>c</th>\n",
       "      <th>d</th>\n",
       "    </tr>\n",
       "  </thead>\n",
       "  <tbody>\n",
       "    <tr>\n",
       "      <th>0</th>\n",
       "      <td>10.0</td>\n",
       "      <td>6</td>\n",
       "      <td>7</td>\n",
       "      <td>8</td>\n",
       "    </tr>\n",
       "    <tr>\n",
       "      <th>1</th>\n",
       "      <td>1.0</td>\n",
       "      <td>9</td>\n",
       "      <td>12</td>\n",
       "      <td>14</td>\n",
       "    </tr>\n",
       "    <tr>\n",
       "      <th>2</th>\n",
       "      <td>5.0</td>\n",
       "      <td>8</td>\n",
       "      <td>10</td>\n",
       "      <td>6</td>\n",
       "    </tr>\n",
       "  </tbody>\n",
       "</table>\n",
       "</div>"
      ],
      "text/plain": [
       "      a  b   c   d\n",
       "0  10.0  6   7   8\n",
       "1   1.0  9  12  14\n",
       "2   5.0  8  10   6"
      ]
     },
     "execution_count": 2,
     "metadata": {},
     "output_type": "execute_result"
    }
   ],
   "source": [
    "df"
   ]
  },
  {
   "cell_type": "code",
   "execution_count": 3,
   "id": "1c559261-4b72-454e-8914-95e864490b02",
   "metadata": {},
   "outputs": [
    {
     "name": "stdout",
     "output_type": "stream",
     "text": [
      "<class 'pandas.core.frame.DataFrame'>\n",
      "RangeIndex: 3 entries, 0 to 2\n",
      "Data columns (total 4 columns):\n",
      " #   Column  Non-Null Count  Dtype  \n",
      "---  ------  --------------  -----  \n",
      " 0   a       3 non-null      float64\n",
      " 1   b       3 non-null      int64  \n",
      " 2   c       3 non-null      int64  \n",
      " 3   d       3 non-null      int64  \n",
      "dtypes: float64(1), int64(3)\n",
      "memory usage: 224.0 bytes\n",
      "None\n"
     ]
    }
   ],
   "source": [
    "import pandas as pd \n",
    "\n",
    "df = pd.DataFrame([['10.0' ,6,7,8],\n",
    "                   ['1.0' ,9,12,14],\n",
    "                   ['5.0' ,8,10,6]],\n",
    "                  columns = ['a','b','c','d'])\n",
    "\n",
    "df['a'] = df['a'].astype(float, errors='raise')\n",
    "\n",
    "print(df.info())"
   ]
  },
  {
   "cell_type": "code",
   "execution_count": null,
   "id": "8fac1190-e4d6-4277-9a15-be2f0dbebd71",
   "metadata": {},
   "outputs": [],
   "source": []
  }
 ],
 "metadata": {
  "kernelspec": {
   "display_name": "Python 3 (ipykernel)",
   "language": "python",
   "name": "python3"
  },
  "language_info": {
   "codemirror_mode": {
    "name": "ipython",
    "version": 3
   },
   "file_extension": ".py",
   "mimetype": "text/x-python",
   "name": "python",
   "nbconvert_exporter": "python",
   "pygments_lexer": "ipython3",
   "version": "3.8.13"
  },
  "vscode": {
   "interpreter": {
    "hash": "916dbcbb3f70747c44a77c7bcd40155683ae19c65e1c03b4aa3499c5328201f1"
   }
  }
 },
 "nbformat": 4,
 "nbformat_minor": 5
}
