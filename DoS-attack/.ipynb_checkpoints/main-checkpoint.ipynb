{
 "cells": [
  {
   "cell_type": "code",
   "execution_count": 1,
   "id": "b2e63dcf-0aed-475d-8629-9795ada784cc",
   "metadata": {},
   "outputs": [],
   "source": [
    "import libs"
   ]
  },
  {
   "cell_type": "code",
   "execution_count": 2,
   "id": "148beb49-ea28-42fa-bead-b84773eed318",
   "metadata": {},
   "outputs": [],
   "source": [
    "# main functions \n",
    "data, label = libs.read_dataset(\"DoS_dataset.csv\")\n",
    "X_train, X_test, y_train, y_test = libs.traintest_split(data, label)"
   ]
  },
  {
   "cell_type": "code",
   "execution_count": 3,
   "id": "1b73ab8c-221c-42ba-9c08-61801aea8800",
   "metadata": {},
   "outputs": [
    {
     "data": {
      "text/html": [
       "<div>\n",
       "<style scoped>\n",
       "    .dataframe tbody tr th:only-of-type {\n",
       "        vertical-align: middle;\n",
       "    }\n",
       "\n",
       "    .dataframe tbody tr th {\n",
       "        vertical-align: top;\n",
       "    }\n",
       "\n",
       "    .dataframe thead th {\n",
       "        text-align: right;\n",
       "    }\n",
       "</style>\n",
       "<table border=\"1\" class=\"dataframe\">\n",
       "  <thead>\n",
       "    <tr style=\"text-align: right;\">\n",
       "      <th></th>\n",
       "      <th>1</th>\n",
       "      <th>3</th>\n",
       "      <th>4</th>\n",
       "      <th>5</th>\n",
       "      <th>6</th>\n",
       "      <th>7</th>\n",
       "      <th>8</th>\n",
       "      <th>9</th>\n",
       "      <th>10</th>\n",
       "    </tr>\n",
       "  </thead>\n",
       "  <tbody>\n",
       "    <tr>\n",
       "      <th>2822854</th>\n",
       "      <td>0545</td>\n",
       "      <td>d8</td>\n",
       "      <td>5a</td>\n",
       "      <td>00</td>\n",
       "      <td>87</td>\n",
       "      <td>00</td>\n",
       "      <td>00</td>\n",
       "      <td>00</td>\n",
       "      <td>00</td>\n",
       "    </tr>\n",
       "    <tr>\n",
       "      <th>3533968</th>\n",
       "      <td>0370</td>\n",
       "      <td>00</td>\n",
       "      <td>20</td>\n",
       "      <td>00</td>\n",
       "      <td>00</td>\n",
       "      <td>00</td>\n",
       "      <td>00</td>\n",
       "      <td>00</td>\n",
       "      <td>00</td>\n",
       "    </tr>\n",
       "    <tr>\n",
       "      <th>3578749</th>\n",
       "      <td>0260</td>\n",
       "      <td>1a</td>\n",
       "      <td>22</td>\n",
       "      <td>22</td>\n",
       "      <td>30</td>\n",
       "      <td>08</td>\n",
       "      <td>8e</td>\n",
       "      <td>6b</td>\n",
       "      <td>07</td>\n",
       "    </tr>\n",
       "    <tr>\n",
       "      <th>3004643</th>\n",
       "      <td>0440</td>\n",
       "      <td>ff</td>\n",
       "      <td>00</td>\n",
       "      <td>00</td>\n",
       "      <td>00</td>\n",
       "      <td>ff</td>\n",
       "      <td>6e</td>\n",
       "      <td>09</td>\n",
       "      <td>00</td>\n",
       "    </tr>\n",
       "    <tr>\n",
       "      <th>3374003</th>\n",
       "      <td>0440</td>\n",
       "      <td>ff</td>\n",
       "      <td>00</td>\n",
       "      <td>00</td>\n",
       "      <td>00</td>\n",
       "      <td>ff</td>\n",
       "      <td>91</td>\n",
       "      <td>09</td>\n",
       "      <td>00</td>\n",
       "    </tr>\n",
       "    <tr>\n",
       "      <th>...</th>\n",
       "      <td>...</td>\n",
       "      <td>...</td>\n",
       "      <td>...</td>\n",
       "      <td>...</td>\n",
       "      <td>...</td>\n",
       "      <td>...</td>\n",
       "      <td>...</td>\n",
       "      <td>...</td>\n",
       "      <td>...</td>\n",
       "    </tr>\n",
       "    <tr>\n",
       "      <th>2438316</th>\n",
       "      <td>0153</td>\n",
       "      <td>00</td>\n",
       "      <td>21</td>\n",
       "      <td>10</td>\n",
       "      <td>ff</td>\n",
       "      <td>00</td>\n",
       "      <td>ff</td>\n",
       "      <td>00</td>\n",
       "      <td>00</td>\n",
       "    </tr>\n",
       "    <tr>\n",
       "      <th>743128</th>\n",
       "      <td>0000</td>\n",
       "      <td>00</td>\n",
       "      <td>00</td>\n",
       "      <td>00</td>\n",
       "      <td>00</td>\n",
       "      <td>00</td>\n",
       "      <td>00</td>\n",
       "      <td>00</td>\n",
       "      <td>00</td>\n",
       "    </tr>\n",
       "    <tr>\n",
       "      <th>1407870</th>\n",
       "      <td>018f</td>\n",
       "      <td>fe</td>\n",
       "      <td>58</td>\n",
       "      <td>00</td>\n",
       "      <td>00</td>\n",
       "      <td>00</td>\n",
       "      <td>3c</td>\n",
       "      <td>00</td>\n",
       "      <td>00</td>\n",
       "    </tr>\n",
       "    <tr>\n",
       "      <th>2224836</th>\n",
       "      <td>0000</td>\n",
       "      <td>00</td>\n",
       "      <td>00</td>\n",
       "      <td>00</td>\n",
       "      <td>00</td>\n",
       "      <td>00</td>\n",
       "      <td>00</td>\n",
       "      <td>00</td>\n",
       "      <td>00</td>\n",
       "    </tr>\n",
       "    <tr>\n",
       "      <th>2451318</th>\n",
       "      <td>043f</td>\n",
       "      <td>00</td>\n",
       "      <td>40</td>\n",
       "      <td>60</td>\n",
       "      <td>ff</td>\n",
       "      <td>7e</td>\n",
       "      <td>c9</td>\n",
       "      <td>08</td>\n",
       "      <td>00</td>\n",
       "    </tr>\n",
       "  </tbody>\n",
       "</table>\n",
       "<p>2907666 rows × 9 columns</p>\n",
       "</div>"
      ],
      "text/plain": [
       "           1   3   4   5   6   7   8   9   10\n",
       "2822854  0545  d8  5a  00  87  00  00  00  00\n",
       "3533968  0370  00  20  00  00  00  00  00  00\n",
       "3578749  0260  1a  22  22  30  08  8e  6b  07\n",
       "3004643  0440  ff  00  00  00  ff  6e  09  00\n",
       "3374003  0440  ff  00  00  00  ff  91  09  00\n",
       "...       ...  ..  ..  ..  ..  ..  ..  ..  ..\n",
       "2438316  0153  00  21  10  ff  00  ff  00  00\n",
       "743128   0000  00  00  00  00  00  00  00  00\n",
       "1407870  018f  fe  58  00  00  00  3c  00  00\n",
       "2224836  0000  00  00  00  00  00  00  00  00\n",
       "2451318  043f  00  40  60  ff  7e  c9  08  00\n",
       "\n",
       "[2907666 rows x 9 columns]"
      ]
     },
     "execution_count": 3,
     "metadata": {},
     "output_type": "execute_result"
    }
   ],
   "source": [
    "X_train"
   ]
  },
  {
   "cell_type": "code",
   "execution_count": 7,
   "id": "e5236592-1237-4a26-ba46-20ec95cb9116",
   "metadata": {},
   "outputs": [],
   "source": [
    "import pandas as pd \n",
    "\n",
    "first_list = []\n",
    "second_list = []\n",
    "third_list = []\n",
    "forth_list = []\n",
    "fifth_list = []\n",
    "sixth_list = []\n",
    "seventh_list = []\n",
    "eighth_list = []\n",
    "nineth_list = []\n",
    "\n",
    "for i in X_train[3]:\n",
    "    first_list.append(int(i, 16))\n",
    "    \n",
    "for i in X_train[4]:\n",
    "    second_list.append(int(i, 16))\n",
    "    \n",
    "for i in X_train[5]:\n",
    "    third_list.append(int(i, 16))\n",
    "    \n",
    "for i in X_train[6]:\n",
    "    forth_list.append(int(i, 16))\n",
    "    \n",
    "for i in X_train[7]:\n",
    "    fifth_list.append(int(i, 16))\n",
    "    \n",
    "for i in X_train[8]:\n",
    "    sixth_list.append(int(i, 16))\n",
    "    \n",
    "for i in X_train[9]:\n",
    "    seventh_list.append(int(i, 16))\n",
    "    \n",
    "for i in X_train[10]:\n",
    "    eighth_list.append(int(i, 16))\n",
    "    \n",
    "for i in X_train[1]:\n",
    "    nineth_list.append(int(i, 16))"
   ]
  },
  {
   "cell_type": "code",
   "execution_count": 14,
   "id": "0bec2325-9f72-4314-85d0-567382756df4",
   "metadata": {},
   "outputs": [],
   "source": [
    "# new dataframe \n",
    "\n",
    "df = pd.DataFrame()\n",
    "\n",
    "df[1] = first_list\n",
    "df[2] = second_list\n",
    "df[3] = third_list\n",
    "df[4] = forth_list\n",
    "df[5] = fifth_list\n",
    "df[6] = sixth_list\n",
    "df[7] = seventh_list\n",
    "df[8] = eighth_list\n",
    "df[9] = nineth_list"
   ]
  },
  {
   "cell_type": "code",
   "execution_count": 16,
   "id": "2f06ec8a-fed6-419e-9da8-f3e252d64a4c",
   "metadata": {},
   "outputs": [],
   "source": [
    "df[2] = second_list"
   ]
  },
  {
   "cell_type": "code",
   "execution_count": 17,
   "id": "276631d7-49a9-4667-afbf-e519fe72b946",
   "metadata": {},
   "outputs": [
    {
     "data": {
      "text/html": [
       "<div>\n",
       "<style scoped>\n",
       "    .dataframe tbody tr th:only-of-type {\n",
       "        vertical-align: middle;\n",
       "    }\n",
       "\n",
       "    .dataframe tbody tr th {\n",
       "        vertical-align: top;\n",
       "    }\n",
       "\n",
       "    .dataframe thead th {\n",
       "        text-align: right;\n",
       "    }\n",
       "</style>\n",
       "<table border=\"1\" class=\"dataframe\">\n",
       "  <thead>\n",
       "    <tr style=\"text-align: right;\">\n",
       "      <th></th>\n",
       "      <th>1</th>\n",
       "      <th>2</th>\n",
       "    </tr>\n",
       "  </thead>\n",
       "  <tbody>\n",
       "    <tr>\n",
       "      <th>0</th>\n",
       "      <td>216</td>\n",
       "      <td>90</td>\n",
       "    </tr>\n",
       "    <tr>\n",
       "      <th>1</th>\n",
       "      <td>0</td>\n",
       "      <td>32</td>\n",
       "    </tr>\n",
       "    <tr>\n",
       "      <th>2</th>\n",
       "      <td>26</td>\n",
       "      <td>34</td>\n",
       "    </tr>\n",
       "    <tr>\n",
       "      <th>3</th>\n",
       "      <td>255</td>\n",
       "      <td>0</td>\n",
       "    </tr>\n",
       "    <tr>\n",
       "      <th>4</th>\n",
       "      <td>255</td>\n",
       "      <td>0</td>\n",
       "    </tr>\n",
       "    <tr>\n",
       "      <th>...</th>\n",
       "      <td>...</td>\n",
       "      <td>...</td>\n",
       "    </tr>\n",
       "    <tr>\n",
       "      <th>2907661</th>\n",
       "      <td>0</td>\n",
       "      <td>33</td>\n",
       "    </tr>\n",
       "    <tr>\n",
       "      <th>2907662</th>\n",
       "      <td>0</td>\n",
       "      <td>0</td>\n",
       "    </tr>\n",
       "    <tr>\n",
       "      <th>2907663</th>\n",
       "      <td>254</td>\n",
       "      <td>88</td>\n",
       "    </tr>\n",
       "    <tr>\n",
       "      <th>2907664</th>\n",
       "      <td>0</td>\n",
       "      <td>0</td>\n",
       "    </tr>\n",
       "    <tr>\n",
       "      <th>2907665</th>\n",
       "      <td>0</td>\n",
       "      <td>64</td>\n",
       "    </tr>\n",
       "  </tbody>\n",
       "</table>\n",
       "<p>2907666 rows × 2 columns</p>\n",
       "</div>"
      ],
      "text/plain": [
       "           1   2\n",
       "0        216  90\n",
       "1          0  32\n",
       "2         26  34\n",
       "3        255   0\n",
       "4        255   0\n",
       "...      ...  ..\n",
       "2907661    0  33\n",
       "2907662    0   0\n",
       "2907663  254  88\n",
       "2907664    0   0\n",
       "2907665    0  64\n",
       "\n",
       "[2907666 rows x 2 columns]"
      ]
     },
     "execution_count": 17,
     "metadata": {},
     "output_type": "execute_result"
    }
   ],
   "source": [
    "df"
   ]
  },
  {
   "cell_type": "code",
   "execution_count": 8,
   "id": "44d9c6c0-71fa-4603-b296-f23b75160d37",
   "metadata": {},
   "outputs": [
    {
     "data": {
      "text/html": [
       "<div>\n",
       "<style scoped>\n",
       "    .dataframe tbody tr th:only-of-type {\n",
       "        vertical-align: middle;\n",
       "    }\n",
       "\n",
       "    .dataframe tbody tr th {\n",
       "        vertical-align: top;\n",
       "    }\n",
       "\n",
       "    .dataframe thead th {\n",
       "        text-align: right;\n",
       "    }\n",
       "</style>\n",
       "<table border=\"1\" class=\"dataframe\">\n",
       "  <thead>\n",
       "    <tr style=\"text-align: right;\">\n",
       "      <th></th>\n",
       "      <th>1</th>\n",
       "      <th>3</th>\n",
       "      <th>4</th>\n",
       "      <th>5</th>\n",
       "      <th>6</th>\n",
       "      <th>7</th>\n",
       "      <th>8</th>\n",
       "      <th>9</th>\n",
       "      <th>10</th>\n",
       "    </tr>\n",
       "  </thead>\n",
       "  <tbody>\n",
       "    <tr>\n",
       "      <th>2822854</th>\n",
       "      <td>0545</td>\n",
       "      <td>d8</td>\n",
       "      <td>5a</td>\n",
       "      <td>00</td>\n",
       "      <td>87</td>\n",
       "      <td>00</td>\n",
       "      <td>00</td>\n",
       "      <td>00</td>\n",
       "      <td>00</td>\n",
       "    </tr>\n",
       "    <tr>\n",
       "      <th>3533968</th>\n",
       "      <td>0370</td>\n",
       "      <td>00</td>\n",
       "      <td>20</td>\n",
       "      <td>00</td>\n",
       "      <td>00</td>\n",
       "      <td>00</td>\n",
       "      <td>00</td>\n",
       "      <td>00</td>\n",
       "      <td>00</td>\n",
       "    </tr>\n",
       "    <tr>\n",
       "      <th>3578749</th>\n",
       "      <td>0260</td>\n",
       "      <td>1a</td>\n",
       "      <td>22</td>\n",
       "      <td>22</td>\n",
       "      <td>30</td>\n",
       "      <td>08</td>\n",
       "      <td>8e</td>\n",
       "      <td>6b</td>\n",
       "      <td>07</td>\n",
       "    </tr>\n",
       "    <tr>\n",
       "      <th>3004643</th>\n",
       "      <td>0440</td>\n",
       "      <td>ff</td>\n",
       "      <td>00</td>\n",
       "      <td>00</td>\n",
       "      <td>00</td>\n",
       "      <td>ff</td>\n",
       "      <td>6e</td>\n",
       "      <td>09</td>\n",
       "      <td>00</td>\n",
       "    </tr>\n",
       "    <tr>\n",
       "      <th>3374003</th>\n",
       "      <td>0440</td>\n",
       "      <td>ff</td>\n",
       "      <td>00</td>\n",
       "      <td>00</td>\n",
       "      <td>00</td>\n",
       "      <td>ff</td>\n",
       "      <td>91</td>\n",
       "      <td>09</td>\n",
       "      <td>00</td>\n",
       "    </tr>\n",
       "    <tr>\n",
       "      <th>...</th>\n",
       "      <td>...</td>\n",
       "      <td>...</td>\n",
       "      <td>...</td>\n",
       "      <td>...</td>\n",
       "      <td>...</td>\n",
       "      <td>...</td>\n",
       "      <td>...</td>\n",
       "      <td>...</td>\n",
       "      <td>...</td>\n",
       "    </tr>\n",
       "    <tr>\n",
       "      <th>2438316</th>\n",
       "      <td>0153</td>\n",
       "      <td>00</td>\n",
       "      <td>21</td>\n",
       "      <td>10</td>\n",
       "      <td>ff</td>\n",
       "      <td>00</td>\n",
       "      <td>ff</td>\n",
       "      <td>00</td>\n",
       "      <td>00</td>\n",
       "    </tr>\n",
       "    <tr>\n",
       "      <th>743128</th>\n",
       "      <td>0000</td>\n",
       "      <td>00</td>\n",
       "      <td>00</td>\n",
       "      <td>00</td>\n",
       "      <td>00</td>\n",
       "      <td>00</td>\n",
       "      <td>00</td>\n",
       "      <td>00</td>\n",
       "      <td>00</td>\n",
       "    </tr>\n",
       "    <tr>\n",
       "      <th>1407870</th>\n",
       "      <td>018f</td>\n",
       "      <td>fe</td>\n",
       "      <td>58</td>\n",
       "      <td>00</td>\n",
       "      <td>00</td>\n",
       "      <td>00</td>\n",
       "      <td>3c</td>\n",
       "      <td>00</td>\n",
       "      <td>00</td>\n",
       "    </tr>\n",
       "    <tr>\n",
       "      <th>2224836</th>\n",
       "      <td>0000</td>\n",
       "      <td>00</td>\n",
       "      <td>00</td>\n",
       "      <td>00</td>\n",
       "      <td>00</td>\n",
       "      <td>00</td>\n",
       "      <td>00</td>\n",
       "      <td>00</td>\n",
       "      <td>00</td>\n",
       "    </tr>\n",
       "    <tr>\n",
       "      <th>2451318</th>\n",
       "      <td>043f</td>\n",
       "      <td>00</td>\n",
       "      <td>40</td>\n",
       "      <td>60</td>\n",
       "      <td>ff</td>\n",
       "      <td>7e</td>\n",
       "      <td>c9</td>\n",
       "      <td>08</td>\n",
       "      <td>00</td>\n",
       "    </tr>\n",
       "  </tbody>\n",
       "</table>\n",
       "<p>2907666 rows × 9 columns</p>\n",
       "</div>"
      ],
      "text/plain": [
       "           1   3   4   5   6   7   8   9   10\n",
       "2822854  0545  d8  5a  00  87  00  00  00  00\n",
       "3533968  0370  00  20  00  00  00  00  00  00\n",
       "3578749  0260  1a  22  22  30  08  8e  6b  07\n",
       "3004643  0440  ff  00  00  00  ff  6e  09  00\n",
       "3374003  0440  ff  00  00  00  ff  91  09  00\n",
       "...       ...  ..  ..  ..  ..  ..  ..  ..  ..\n",
       "2438316  0153  00  21  10  ff  00  ff  00  00\n",
       "743128   0000  00  00  00  00  00  00  00  00\n",
       "1407870  018f  fe  58  00  00  00  3c  00  00\n",
       "2224836  0000  00  00  00  00  00  00  00  00\n",
       "2451318  043f  00  40  60  ff  7e  c9  08  00\n",
       "\n",
       "[2907666 rows x 9 columns]"
      ]
     },
     "execution_count": 8,
     "metadata": {},
     "output_type": "execute_result"
    }
   ],
   "source": [
    "X_train"
   ]
  },
  {
   "cell_type": "code",
   "execution_count": 10,
   "id": "5d5a13fb-2e28-41cc-8d86-b04644c6b1fc",
   "metadata": {},
   "outputs": [
    {
     "data": {
      "text/plain": [
       "1839689    00\n",
       "541208     00\n",
       "1684294    05\n",
       "352266     f2\n",
       "171979     ff\n",
       "           ..\n",
       "358502     05\n",
       "2670170    d8\n",
       "1870723    00\n",
       "2848304    fe\n",
       "2401672    dc\n",
       "Name: 3, Length: 2907666, dtype: object"
      ]
     },
     "execution_count": 10,
     "metadata": {},
     "output_type": "execute_result"
    }
   ],
   "source": [
    "X_train[3]"
   ]
  },
  {
   "cell_type": "code",
   "execution_count": 11,
   "id": "a33b43a9-2c2b-4b0b-b4c8-a52437e32de6",
   "metadata": {},
   "outputs": [
    {
     "data": {
      "text/plain": [
       "'00'"
      ]
     },
     "execution_count": 11,
     "metadata": {},
     "output_type": "execute_result"
    }
   ],
   "source": [
    "X_train[3][541208]"
   ]
  },
  {
   "cell_type": "code",
   "execution_count": 15,
   "id": "dbcd5a74-b284-4eeb-ba87-65453e5ff336",
   "metadata": {},
   "outputs": [
    {
     "data": {
      "text/plain": [
       "2907666"
      ]
     },
     "execution_count": 15,
     "metadata": {},
     "output_type": "execute_result"
    }
   ],
   "source": [
    "len(x)"
   ]
  },
  {
   "cell_type": "code",
   "execution_count": 16,
   "id": "46cea9e1-789c-486d-92cf-0adcea1a426b",
   "metadata": {},
   "outputs": [
    {
     "data": {
      "text/html": [
       "<div>\n",
       "<style scoped>\n",
       "    .dataframe tbody tr th:only-of-type {\n",
       "        vertical-align: middle;\n",
       "    }\n",
       "\n",
       "    .dataframe tbody tr th {\n",
       "        vertical-align: top;\n",
       "    }\n",
       "\n",
       "    .dataframe thead th {\n",
       "        text-align: right;\n",
       "    }\n",
       "</style>\n",
       "<table border=\"1\" class=\"dataframe\">\n",
       "  <thead>\n",
       "    <tr style=\"text-align: right;\">\n",
       "      <th></th>\n",
       "      <th>3</th>\n",
       "      <th>4</th>\n",
       "      <th>5</th>\n",
       "      <th>6</th>\n",
       "      <th>7</th>\n",
       "      <th>8</th>\n",
       "      <th>9</th>\n",
       "      <th>10</th>\n",
       "    </tr>\n",
       "  </thead>\n",
       "  <tbody>\n",
       "    <tr>\n",
       "      <th>1839689</th>\n",
       "      <td>00</td>\n",
       "      <td>00</td>\n",
       "      <td>00</td>\n",
       "      <td>00</td>\n",
       "      <td>00</td>\n",
       "      <td>00</td>\n",
       "      <td>00</td>\n",
       "      <td>00</td>\n",
       "    </tr>\n",
       "    <tr>\n",
       "      <th>541208</th>\n",
       "      <td>00</td>\n",
       "      <td>21</td>\n",
       "      <td>10</td>\n",
       "      <td>ff</td>\n",
       "      <td>00</td>\n",
       "      <td>ff</td>\n",
       "      <td>00</td>\n",
       "      <td>00</td>\n",
       "    </tr>\n",
       "    <tr>\n",
       "      <th>1684294</th>\n",
       "      <td>05</td>\n",
       "      <td>23</td>\n",
       "      <td>68</td>\n",
       "      <td>09</td>\n",
       "      <td>23</td>\n",
       "      <td>22</td>\n",
       "      <td>00</td>\n",
       "      <td>6f</td>\n",
       "    </tr>\n",
       "    <tr>\n",
       "      <th>352266</th>\n",
       "      <td>f2</td>\n",
       "      <td>7f</td>\n",
       "      <td>00</td>\n",
       "      <td>00</td>\n",
       "      <td>27</td>\n",
       "      <td>7f</td>\n",
       "      <td>0b</td>\n",
       "      <td>4d</td>\n",
       "    </tr>\n",
       "    <tr>\n",
       "      <th>171979</th>\n",
       "      <td>ff</td>\n",
       "      <td>00</td>\n",
       "      <td>00</td>\n",
       "      <td>00</td>\n",
       "      <td>ff</td>\n",
       "      <td>87</td>\n",
       "      <td>09</td>\n",
       "      <td>00</td>\n",
       "    </tr>\n",
       "    <tr>\n",
       "      <th>...</th>\n",
       "      <td>...</td>\n",
       "      <td>...</td>\n",
       "      <td>...</td>\n",
       "      <td>...</td>\n",
       "      <td>...</td>\n",
       "      <td>...</td>\n",
       "      <td>...</td>\n",
       "      <td>...</td>\n",
       "    </tr>\n",
       "    <tr>\n",
       "      <th>358502</th>\n",
       "      <td>05</td>\n",
       "      <td>21</td>\n",
       "      <td>50</td>\n",
       "      <td>0a</td>\n",
       "      <td>21</td>\n",
       "      <td>1e</td>\n",
       "      <td>00</td>\n",
       "      <td>6f</td>\n",
       "    </tr>\n",
       "    <tr>\n",
       "      <th>2670170</th>\n",
       "      <td>d8</td>\n",
       "      <td>57</td>\n",
       "      <td>00</td>\n",
       "      <td>80</td>\n",
       "      <td>00</td>\n",
       "      <td>00</td>\n",
       "      <td>00</td>\n",
       "      <td>00</td>\n",
       "    </tr>\n",
       "    <tr>\n",
       "      <th>1870723</th>\n",
       "      <td>00</td>\n",
       "      <td>21</td>\n",
       "      <td>10</td>\n",
       "      <td>ff</td>\n",
       "      <td>00</td>\n",
       "      <td>ff</td>\n",
       "      <td>00</td>\n",
       "      <td>00</td>\n",
       "    </tr>\n",
       "    <tr>\n",
       "      <th>2848304</th>\n",
       "      <td>fe</td>\n",
       "      <td>5d</td>\n",
       "      <td>00</td>\n",
       "      <td>00</td>\n",
       "      <td>00</td>\n",
       "      <td>3c</td>\n",
       "      <td>00</td>\n",
       "      <td>00</td>\n",
       "    </tr>\n",
       "    <tr>\n",
       "      <th>2401672</th>\n",
       "      <td>dc</td>\n",
       "      <td>bd</td>\n",
       "      <td>7f</td>\n",
       "      <td>14</td>\n",
       "      <td>11</td>\n",
       "      <td>20</td>\n",
       "      <td>00</td>\n",
       "      <td>14</td>\n",
       "    </tr>\n",
       "  </tbody>\n",
       "</table>\n",
       "<p>2907666 rows × 8 columns</p>\n",
       "</div>"
      ],
      "text/plain": [
       "         3   4   5   6   7   8   9   10\n",
       "1839689  00  00  00  00  00  00  00  00\n",
       "541208   00  21  10  ff  00  ff  00  00\n",
       "1684294  05  23  68  09  23  22  00  6f\n",
       "352266   f2  7f  00  00  27  7f  0b  4d\n",
       "171979   ff  00  00  00  ff  87  09  00\n",
       "...      ..  ..  ..  ..  ..  ..  ..  ..\n",
       "358502   05  21  50  0a  21  1e  00  6f\n",
       "2670170  d8  57  00  80  00  00  00  00\n",
       "1870723  00  21  10  ff  00  ff  00  00\n",
       "2848304  fe  5d  00  00  00  3c  00  00\n",
       "2401672  dc  bd  7f  14  11  20  00  14\n",
       "\n",
       "[2907666 rows x 8 columns]"
      ]
     },
     "execution_count": 16,
     "metadata": {},
     "output_type": "execute_result"
    }
   ],
   "source": [
    "X_train"
   ]
  },
  {
   "cell_type": "code",
   "execution_count": 23,
   "id": "19c3c327-19e1-4264-9732-e67619d53e6d",
   "metadata": {},
   "outputs": [
    {
     "data": {
      "text/plain": [
       "12336"
      ]
     },
     "execution_count": 23,
     "metadata": {},
     "output_type": "execute_result"
    }
   ],
   "source": [
    "import sys\n",
    "\n",
    "int.from_bytes(first_list[0], \"little\")"
   ]
  },
  {
   "cell_type": "code",
   "execution_count": 24,
   "id": "5428f78b-a818-4f71-a606-fdf674cf5225",
   "metadata": {},
   "outputs": [
    {
     "data": {
      "text/plain": [
       "bytes"
      ]
     },
     "execution_count": 24,
     "metadata": {},
     "output_type": "execute_result"
    }
   ],
   "source": [
    "type(first_list[0])"
   ]
  },
  {
   "cell_type": "code",
   "execution_count": 25,
   "id": "eb092185-558c-48d4-8ec3-b675ef9d0f27",
   "metadata": {},
   "outputs": [
    {
     "data": {
      "text/plain": [
       "b'00'"
      ]
     },
     "execution_count": 25,
     "metadata": {},
     "output_type": "execute_result"
    }
   ],
   "source": [
    "first_list[0]"
   ]
  },
  {
   "cell_type": "code",
   "execution_count": 42,
   "id": "55efd16a-50d3-4c61-bab5-7b0b1ad72a1c",
   "metadata": {},
   "outputs": [
    {
     "name": "stdout",
     "output_type": "stream",
     "text": [
      "12336\n"
     ]
    }
   ],
   "source": [
    "byte_val = b'00'\n",
    "byte_val = bytes(byte_val)\n",
    "int_val = int.from_bytes(byte_val, \"big\", signed=True)\n",
    "print(int_val)"
   ]
  },
  {
   "cell_type": "code",
   "execution_count": 45,
   "id": "036d0db7-0ed4-4fd5-9056-0de0970b30ec",
   "metadata": {},
   "outputs": [
    {
     "ename": "TypeError",
     "evalue": "'bytes' object cannot be interpreted as an integer",
     "output_type": "error",
     "traceback": [
      "\u001b[0;31m---------------------------------------------------------------------------\u001b[0m",
      "\u001b[0;31mTypeError\u001b[0m                                 Traceback (most recent call last)",
      "Input \u001b[0;32mIn [45]\u001b[0m, in \u001b[0;36m<cell line: 2>\u001b[0;34m()\u001b[0m\n\u001b[1;32m      1\u001b[0m byte_val \u001b[38;5;241m=\u001b[39m [\u001b[38;5;124mb\u001b[39m\u001b[38;5;124m'\u001b[39m\u001b[38;5;124m00\u001b[39m\u001b[38;5;124m'\u001b[39m]\n\u001b[0;32m----> 2\u001b[0m byte_val \u001b[38;5;241m=\u001b[39m \u001b[38;5;28;43mbytes\u001b[39;49m\u001b[43m(\u001b[49m\u001b[43mbyte_val\u001b[49m\u001b[43m)\u001b[49m\n",
      "\u001b[0;31mTypeError\u001b[0m: 'bytes' object cannot be interpreted as an integer"
     ]
    }
   ],
   "source": [
    "byte_val = [b'00']\n",
    "byte_val = bytes(byte_val)"
   ]
  },
  {
   "cell_type": "code",
   "execution_count": 44,
   "id": "94435b17-60cd-48ee-aa43-93268af5b654",
   "metadata": {},
   "outputs": [
    {
     "data": {
      "text/plain": [
       "b'00'"
      ]
     },
     "execution_count": 44,
     "metadata": {},
     "output_type": "execute_result"
    }
   ],
   "source": [
    "byte_val"
   ]
  },
  {
   "cell_type": "code",
   "execution_count": 46,
   "id": "0de0c5f7-a25e-4c08-be33-a9115d7f1a0a",
   "metadata": {},
   "outputs": [
    {
     "name": "stdout",
     "output_type": "stream",
     "text": [
      "The Hexadecimal string is: F\n"
     ]
    }
   ],
   "source": [
    "testing_string = 'F'\n",
    "\n",
    "print(\"The Hexadecimal string is: \" + str(testing_string))\n",
    "\n",
    "convertion = int(testing_string, 16)"
   ]
  },
  {
   "cell_type": "code",
   "execution_count": 47,
   "id": "de3c8984-2489-4501-9026-e2b71d4ac347",
   "metadata": {},
   "outputs": [
    {
     "data": {
      "text/plain": [
       "15"
      ]
     },
     "execution_count": 47,
     "metadata": {},
     "output_type": "execute_result"
    }
   ],
   "source": [
    "convertion"
   ]
  },
  {
   "cell_type": "code",
   "execution_count": 48,
   "id": "b1191c9d-36f4-40bb-94ce-daad666472e6",
   "metadata": {},
   "outputs": [
    {
     "data": {
      "text/plain": [
       "str"
      ]
     },
     "execution_count": 48,
     "metadata": {},
     "output_type": "execute_result"
    }
   ],
   "source": [
    "type(testing_string)"
   ]
  },
  {
   "cell_type": "code",
   "execution_count": 52,
   "id": "285c1dd7-4cf9-4835-8709-b9e38b355adb",
   "metadata": {},
   "outputs": [],
   "source": [
    "first_list = []\n",
    "for i in X_train[3]:\n",
    "    first_list.append(int(i, 16))"
   ]
  },
  {
   "cell_type": "code",
   "execution_count": 54,
   "id": "9957e85b-cd16-4ed7-b064-4e13ad3e1b38",
   "metadata": {},
   "outputs": [
    {
     "data": {
      "text/plain": [
       "2907666"
      ]
     },
     "execution_count": 54,
     "metadata": {},
     "output_type": "execute_result"
    }
   ],
   "source": [
    "len(first_list)"
   ]
  },
  {
   "cell_type": "code",
   "execution_count": 4,
   "id": "38bc5f2b-1526-44e3-a67e-f196222986ba",
   "metadata": {},
   "outputs": [
    {
     "data": {
      "text/plain": [
       "2822854    0545\n",
       "3533968    0370\n",
       "3578749    0260\n",
       "3004643    0440\n",
       "3374003    0440\n",
       "           ... \n",
       "2438316    0153\n",
       "743128     0000\n",
       "1407870    018f\n",
       "2224836    0000\n",
       "2451318    043f\n",
       "Name: 1, Length: 2907666, dtype: object"
      ]
     },
     "execution_count": 4,
     "metadata": {},
     "output_type": "execute_result"
    }
   ],
   "source": [
    "X_train[1]"
   ]
  },
  {
   "cell_type": "code",
   "execution_count": 6,
   "id": "3225d9a6-9bab-40d2-8909-92cc6999d4c8",
   "metadata": {},
   "outputs": [
    {
     "data": {
      "text/plain": [
       "1349"
      ]
     },
     "execution_count": 6,
     "metadata": {},
     "output_type": "execute_result"
    }
   ],
   "source": [
    "int(X_train[1][2822854], 16)"
   ]
  },
  {
   "cell_type": "code",
   "execution_count": null,
   "id": "153aed4e-2b1a-4c87-8967-83158e51b39d",
   "metadata": {},
   "outputs": [],
   "source": []
  }
 ],
 "metadata": {
  "kernelspec": {
   "display_name": "Python 3 (ipykernel)",
   "language": "python",
   "name": "python3"
  },
  "language_info": {
   "codemirror_mode": {
    "name": "ipython",
    "version": 3
   },
   "file_extension": ".py",
   "mimetype": "text/x-python",
   "name": "python",
   "nbconvert_exporter": "python",
   "pygments_lexer": "ipython3",
   "version": "3.8.13"
  },
  "vscode": {
   "interpreter": {
    "hash": "916dbcbb3f70747c44a77c7bcd40155683ae19c65e1c03b4aa3499c5328201f1"
   }
  }
 },
 "nbformat": 4,
 "nbformat_minor": 5
}
