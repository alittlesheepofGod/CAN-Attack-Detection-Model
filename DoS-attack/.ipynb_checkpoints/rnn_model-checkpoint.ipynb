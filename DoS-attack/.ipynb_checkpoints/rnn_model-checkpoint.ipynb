{
 "cells": [
  {
   "cell_type": "code",
   "execution_count": 12,
   "id": "d7ec6fad-54d6-41d8-9775-e315ff467f56",
   "metadata": {},
   "outputs": [],
   "source": [
    "import main"
   ]
  },
  {
   "cell_type": "code",
   "execution_count": 17,
   "id": "5df9f9cb-a6d4-4225-ab1a-e2095250958b",
   "metadata": {},
   "outputs": [],
   "source": [
    "X_train = main.X_train_stack\n",
    "X_test = main.X_test_stack"
   ]
  },
  {
   "cell_type": "code",
   "execution_count": 18,
   "id": "26ee4f30-fbd4-4919-b1ad-321f387ecb93",
   "metadata": {},
   "outputs": [],
   "source": [
    "# import libraries \n",
    "import pandas as pd \n",
    "import numpy as np \n",
    "import matplotlib.pyplot as plt \n",
    "from sklearn.preprocessing import LabelEncoder\n",
    "from keras.wrappers.scikit_learn import KerasClassifier \n",
    "from keras.utils import np_utils\n",
    "from sklearn.preprocessing import Normalizer\n",
    "from sklearn.preprocessing import StandardScaler"
   ]
  },
  {
   "cell_type": "code",
   "execution_count": 19,
   "id": "6b962b03-9843-4441-b66e-725ac3773ac6",
   "metadata": {},
   "outputs": [],
   "source": [
    "# for modeling \n",
    "from keras.models import Sequential \n",
    "from keras.layers import Dense, Dropout \n",
    "from keras.callbacks import EarlyStopping "
   ]
  },
  {
   "cell_type": "markdown",
   "id": "4d7894ba-3e49-40de-898d-504337d50824",
   "metadata": {},
   "source": [
    "# Data Preparation"
   ]
  },
  {
   "cell_type": "code",
   "execution_count": 20,
   "id": "16e77647-ac6c-4068-8cc0-8f420f07cecb",
   "metadata": {},
   "outputs": [],
   "source": [
    "X_data_train = X_train.iloc[:, 0:9]\n",
    "y_data_train = X_train.iloc[:,9:10]"
   ]
  },
  {
   "cell_type": "code",
   "execution_count": 21,
   "id": "5194e563-d9a4-4bf3-8735-83182bed0d0b",
   "metadata": {},
   "outputs": [],
   "source": [
    "X_data_test = X_test.iloc[:, 0:9]\n",
    "y_data_test = X_test.iloc[:, 9:10]"
   ]
  },
  {
   "cell_type": "code",
   "execution_count": 22,
   "id": "e82e88db-daf5-4504-b2ad-7bc3d4a924cc",
   "metadata": {},
   "outputs": [],
   "source": [
    "# resize \n",
    "X_data_train = np.resize(X_data_train, (X_data_train.shape[0], X_data_train.shape[1]))\n",
    "X_data_test = np.resize(X_data_test, (X_data_test.shape[0], X_data_test.shape[1]))"
   ]
  },
  {
   "cell_type": "code",
   "execution_count": 23,
   "id": "64c05870-d581-474f-8b68-6774c8816b3e",
   "metadata": {},
   "outputs": [],
   "source": [
    "# normalizer \n",
    "scaler = Normalizer().fit(X_data_train)\n",
    "X_data_train = scaler.transform(X_data_train)\n",
    "scaler = Normalizer().fit(X_data_test)\n",
    "X_data_test = scaler.transform(X_data_test)"
   ]
  },
  {
   "cell_type": "code",
   "execution_count": 24,
   "id": "2096c4f7-80f1-482a-9969-7e865c2b955e",
   "metadata": {},
   "outputs": [],
   "source": [
    "# standard scaler \n",
    "s = StandardScaler()\n",
    "s.fit(X_data_train)\n",
    "X_data_train = s.transform(X_data_train)\n",
    "X_data_test = s.transform(X_data_test)"
   ]
  },
  {
   "cell_type": "code",
   "execution_count": 25,
   "id": "749ca0b0-7cae-4be0-81ba-b70c3b0571ba",
   "metadata": {},
   "outputs": [],
   "source": [
    "# features for cnn to 10 features:\n",
    "X_train = np.resize(X_train, (X_train.shape[0], 9))\n",
    "X_test = np.resize(X_test, (X_test.shape[0], 9))"
   ]
  },
  {
   "cell_type": "code",
   "execution_count": 26,
   "id": "b98863ee-5faa-406f-8b24-c4ef608121a1",
   "metadata": {},
   "outputs": [
    {
     "data": {
      "text/plain": [
       "9"
      ]
     },
     "execution_count": 26,
     "metadata": {},
     "output_type": "execute_result"
    }
   ],
   "source": [
    "X_train.shape[1]"
   ]
  },
  {
   "cell_type": "markdown",
   "id": "b945abdf-3a46-4387-a64e-64ef27334b9e",
   "metadata": {},
   "source": [
    "# RNN Model"
   ]
  },
  {
   "cell_type": "code",
   "execution_count": 7,
   "id": "1f4ec7eb-a836-4727-a773-22e6780f3cd6",
   "metadata": {},
   "outputs": [],
   "source": [
    "# define the Recurrent Neural Network model \n",
    "from torch import nn \n",
    "import torch.nn.functional as F \n",
    "import torch\n",
    "device = torch.device('cuda' if torch.cuda.is_available() else 'cpu')\n",
    "\n",
    "# declare hyper-parameters\n",
    "sequence_length = 28 \n",
    "input_size = 28 \n",
    "hidden_size = 128 \n",
    "num_layers = 2\n",
    "num_classes = 2\n",
    "batch_size = 100\n",
    "num_epochs = 2\n",
    "learning_rate = 0.01 "
   ]
  },
  {
   "cell_type": "code",
   "execution_count": 8,
   "id": "329c847a-b122-49d0-9ca1-951036d0c85d",
   "metadata": {},
   "outputs": [],
   "source": [
    "class RNN(nn.Module):\n",
    "    pass \n",
    "\n",
    "model = RNN().to(device)"
   ]
  },
  {
   "cell_type": "code",
   "execution_count": 9,
   "id": "8002c678-a552-4307-8010-9fa4c6966740",
   "metadata": {},
   "outputs": [
    {
     "name": "stdout",
     "output_type": "stream",
     "text": [
      "RNN()\n"
     ]
    }
   ],
   "source": [
    "print(model)"
   ]
  },
  {
   "cell_type": "code",
   "execution_count": 10,
   "id": "1286c252-49b8-472b-811f-05950465883d",
   "metadata": {},
   "outputs": [],
   "source": [
    "# step 2: add constructor in RNN class \n",
    "class RNN(nn.Module):\n",
    "    def __init__(self, input_size, hidden_size, num_layers, num_classes):\n",
    "        super(RNN, self).__init__()\n",
    "        self.hidden_size = hidden_size \n",
    "        self.num_layers = num_layers \n",
    "        self.lstm = nn.LSTM(input_size, hidden_size, num_layers, batch_first=True)\n",
    "        self.fc = nn.Linear(hidden_size, num_classes)\n",
    "        \n",
    "        pass\n",
    "    \n",
    "    def forward(self, x):\n",
    "        # set initial hidden and cell states \n",
    "        h0 = torch.zeros(self.num_layers, x.size(0), self.hidden_size).to(device)\n",
    "        c0 = torch.zeros(self.num_layers, x.size(0), self.hidden_size).to(device)\n",
    "        \n",
    "        # passing in the input and hidden state into the model and obtain outputs \n",
    "        out, hidden = self.lstm(x, (h0, c0))    # out: tensor of shape (batch_size, seq_length, hidden_size)\n",
    "        \n",
    "        # reshaping the outputs such that it can be fit into the fully connected layer \n",
    "        out = self.fc(out[:, -1, :])\n",
    "        \n",
    "        return out \n",
    "        \n",
    "    pass\n",
    "\n",
    "pass "
   ]
  },
  {
   "cell_type": "code",
   "execution_count": 13,
   "id": "4cdd0632-a5b7-4edb-99c5-7379dc33674b",
   "metadata": {},
   "outputs": [],
   "source": [
    "model = RNN(input_size, hidden_size, num_layers, num_classes)"
   ]
  },
  {
   "cell_type": "code",
   "execution_count": 14,
   "id": "f4e98f02-ee55-47d6-91a5-59cd9166c7a1",
   "metadata": {},
   "outputs": [],
   "source": [
    "loss_func = nn.CrossEntropyLoss()"
   ]
  },
  {
   "cell_type": "code",
   "execution_count": 15,
   "id": "1920c355-0690-4e35-ab85-4c5dd3011b9e",
   "metadata": {},
   "outputs": [],
   "source": [
    "from torch import optim \n",
    "optimizer = optim.Adam(model.parameters(), lr=0.01)"
   ]
  },
  {
   "cell_type": "code",
   "execution_count": null,
   "id": "e485f971-eacd-43e6-a56f-084450c72bef",
   "metadata": {},
   "outputs": [],
   "source": []
  },
  {
   "cell_type": "code",
   "execution_count": null,
   "id": "f76f347c-d5a3-4c58-88c8-16800f93cf46",
   "metadata": {},
   "outputs": [],
   "source": []
  },
  {
   "cell_type": "code",
   "execution_count": null,
   "id": "484d72fd-1182-48dc-9f67-36f3ba1078f6",
   "metadata": {},
   "outputs": [],
   "source": []
  },
  {
   "cell_type": "code",
   "execution_count": null,
   "id": "857e217e-6879-4f70-acf2-11b0e86ff5c1",
   "metadata": {},
   "outputs": [],
   "source": []
  },
  {
   "cell_type": "code",
   "execution_count": 3,
   "id": "a7e7d10d-42e7-4ac2-8f2e-62f50f6a1aa2",
   "metadata": {},
   "outputs": [
    {
     "ename": "NameError",
     "evalue": "name 'model' is not defined",
     "output_type": "error",
     "traceback": [
      "\u001b[0;31m---------------------------------------------------------------------------\u001b[0m",
      "\u001b[0;31mNameError\u001b[0m                                 Traceback (most recent call last)",
      "Input \u001b[0;32mIn [3]\u001b[0m, in \u001b[0;36m<cell line: 2>\u001b[0;34m()\u001b[0m\n\u001b[1;32m      1\u001b[0m \u001b[38;5;66;03m# compile the model \u001b[39;00m\n\u001b[0;32m----> 2\u001b[0m \u001b[43mmodel\u001b[49m\u001b[38;5;241m.\u001b[39mcompile(optimizer\u001b[38;5;241m=\u001b[39m\u001b[38;5;124m'\u001b[39m\u001b[38;5;124mAdam\u001b[39m\u001b[38;5;124m'\u001b[39m, loss\u001b[38;5;241m=\u001b[39m\u001b[38;5;124m'\u001b[39m\u001b[38;5;124mbinary_crossentropy\u001b[39m\u001b[38;5;124m'\u001b[39m, metrics\u001b[38;5;241m=\u001b[39m[\u001b[38;5;124m'\u001b[39m\u001b[38;5;124maccuracy\u001b[39m\u001b[38;5;124m'\u001b[39m])\n",
      "\u001b[0;31mNameError\u001b[0m: name 'model' is not defined"
     ]
    }
   ],
   "source": [
    "# compile the model \n",
    "model.compile(optimizer='Adam', loss='binary_crossentropy', metrics=['accuracy'])"
   ]
  },
  {
   "cell_type": "code",
   "execution_count": 4,
   "id": "d3664382-4200-4e1c-9c37-583796685614",
   "metadata": {},
   "outputs": [
    {
     "ename": "NameError",
     "evalue": "name 'EarlyStopping' is not defined",
     "output_type": "error",
     "traceback": [
      "\u001b[0;31m---------------------------------------------------------------------------\u001b[0m",
      "\u001b[0;31mNameError\u001b[0m                                 Traceback (most recent call last)",
      "Input \u001b[0;32mIn [4]\u001b[0m, in \u001b[0;36m<cell line: 1>\u001b[0;34m()\u001b[0m\n\u001b[0;32m----> 1\u001b[0m es \u001b[38;5;241m=\u001b[39m \u001b[43mEarlyStopping\u001b[49m(monitor\u001b[38;5;241m=\u001b[39m\u001b[38;5;124m'\u001b[39m\u001b[38;5;124mval_accuracy\u001b[39m\u001b[38;5;124m'\u001b[39m, mode\u001b[38;5;241m=\u001b[39m\u001b[38;5;124m'\u001b[39m\u001b[38;5;124mmax\u001b[39m\u001b[38;5;124m'\u001b[39m, patience\u001b[38;5;241m=\u001b[39m\u001b[38;5;241m10\u001b[39m, restore_best_weights\u001b[38;5;241m=\u001b[39m\u001b[38;5;28;01mTrue\u001b[39;00m)\n",
      "\u001b[0;31mNameError\u001b[0m: name 'EarlyStopping' is not defined"
     ]
    }
   ],
   "source": [
    "es = EarlyStopping(monitor='val_accuracy', mode='max', patience=10, restore_best_weights=True)"
   ]
  },
  {
   "cell_type": "code",
   "execution_count": null,
   "id": "ce5f452f-a54a-4653-8198-6b7c60b94d37",
   "metadata": {},
   "outputs": [
    {
     "name": "stdout",
     "output_type": "stream",
     "text": [
      "Epoch 1/10\n",
      " 57321/232614 [======>.......................] - ETA: 21:08 - loss: 7.4468e-04 - accuracy: 0.9997"
     ]
    }
   ],
   "source": [
    "history = model.fit(X_data_train, y_data_train, callbacks=[es], epochs=10, batch_size=10, validation_split=0.2, shuffle=True, verbose=1)"
   ]
  },
  {
   "cell_type": "code",
   "execution_count": null,
   "id": "a88de7a3-c77d-4139-93ac-91429a792ad2",
   "metadata": {},
   "outputs": [],
   "source": [
    "from matplotlib import pyplot \n",
    "\n",
    "# plot diagnostic learning curves\n",
    "def summarize_diagnostic(history):\n",
    "    # plot loss\n",
    "    pyplot.subplot(211)\n",
    "    pyplot.title('Cross Entropy Loss')\n",
    "    pyplot.plot(history.history['loss'], color='blue', label='train')\n",
    "    pyplot.plot(history.history['val_loss'], color='orange', label='test')\n",
    "    \n",
    "    # plot accuracy\n",
    "    pyplot.subplot(212)\n",
    "    pyplot.title('Classification Accuracy')\n",
    "    pyplot.plot(history.history['accuracy'], color='blue', label='train')\n",
    "    pyplot.plot(history.history['val_accuracy'], color='orange', label='test')\n",
    "    \n",
    "    # save plot to file \n",
    "    pyplot.savefig('cnn_performance_plot.png')\n",
    "    pyplot.close()"
   ]
  },
  {
   "cell_type": "code",
   "execution_count": null,
   "id": "7ac54643-7d76-4aaf-b8bb-bf9741f9a00a",
   "metadata": {},
   "outputs": [],
   "source": [
    "summarize_diagnostic(history)"
   ]
  }
 ],
 "metadata": {
  "kernelspec": {
   "display_name": "Python 3 (ipykernel)",
   "language": "python",
   "name": "python3"
  },
  "language_info": {
   "codemirror_mode": {
    "name": "ipython",
    "version": 3
   },
   "file_extension": ".py",
   "mimetype": "text/x-python",
   "name": "python",
   "nbconvert_exporter": "python",
   "pygments_lexer": "ipython3",
   "version": "3.8.13"
  }
 },
 "nbformat": 4,
 "nbformat_minor": 5
}
