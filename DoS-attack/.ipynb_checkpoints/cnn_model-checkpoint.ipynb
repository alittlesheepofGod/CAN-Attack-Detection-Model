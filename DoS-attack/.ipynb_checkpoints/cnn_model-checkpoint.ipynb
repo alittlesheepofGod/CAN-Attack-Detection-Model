{
 "cells": [
  {
   "cell_type": "code",
   "execution_count": 3,
   "id": "d7ec6fad-54d6-41d8-9775-e315ff467f56",
   "metadata": {},
   "outputs": [],
   "source": [
    "import main"
   ]
  },
  {
   "cell_type": "code",
   "execution_count": 4,
   "id": "5df9f9cb-a6d4-4225-ab1a-e2095250958b",
   "metadata": {},
   "outputs": [],
   "source": [
    "X_train = main.X_train_stack\n",
    "X_test = main.X_test_stack"
   ]
  },
  {
   "cell_type": "code",
   "execution_count": 5,
   "id": "26ee4f30-fbd4-4919-b1ad-321f387ecb93",
   "metadata": {},
   "outputs": [],
   "source": [
    "# import libraries \n",
    "import pandas as pd \n",
    "import numpy as np \n",
    "import matplotlib.pyplot as plt \n",
    "from sklearn.preprocessing import LabelEncoder\n",
    "from keras.wrappers.scikit_learn import KerasClassifier \n",
    "from keras.utils import np_utils\n",
    "from sklearn.preprocessing import Normalizer\n",
    "from sklearn.preprocessing import StandardScaler"
   ]
  },
  {
   "cell_type": "code",
   "execution_count": 6,
   "id": "6b962b03-9843-4441-b66e-725ac3773ac6",
   "metadata": {},
   "outputs": [],
   "source": [
    "# for modeling \n",
    "from keras.models import Sequential \n",
    "from keras.layers import Dense, Dropout \n",
    "from keras.callbacks import EarlyStopping "
   ]
  },
  {
   "cell_type": "markdown",
   "id": "4d7894ba-3e49-40de-898d-504337d50824",
   "metadata": {},
   "source": [
    "# Data Preparation"
   ]
  },
  {
   "cell_type": "code",
   "execution_count": 7,
   "id": "16e77647-ac6c-4068-8cc0-8f420f07cecb",
   "metadata": {},
   "outputs": [],
   "source": [
    "X_data_train = X_train.iloc[:, 0:9]\n",
    "y_data_train = X_train.iloc[:,9:10]"
   ]
  },
  {
   "cell_type": "code",
   "execution_count": 8,
   "id": "5194e563-d9a4-4bf3-8735-83182bed0d0b",
   "metadata": {},
   "outputs": [],
   "source": [
    "X_data_test = X_test.iloc[:, 0:9]\n",
    "y_data_test = X_test.iloc[:, 9:10]"
   ]
  },
  {
   "cell_type": "code",
   "execution_count": 9,
   "id": "e82e88db-daf5-4504-b2ad-7bc3d4a924cc",
   "metadata": {},
   "outputs": [],
   "source": [
    "# resize \n",
    "X_data_train = np.resize(X_data_train, (X_data_train.shape[0], X_data_train.shape[1]))\n",
    "X_data_test = np.resize(X_data_test, (X_data_test.shape[0], X_data_test.shape[1]))"
   ]
  },
  {
   "cell_type": "code",
   "execution_count": 10,
   "id": "64c05870-d581-474f-8b68-6774c8816b3e",
   "metadata": {},
   "outputs": [],
   "source": [
    "# normalizer \n",
    "scaler = Normalizer().fit(X_data_train)\n",
    "X_data_train = scaler.transform(X_data_train)\n",
    "scaler = Normalizer().fit(X_data_test)\n",
    "X_data_test = scaler.transform(X_data_test)"
   ]
  },
  {
   "cell_type": "code",
   "execution_count": 11,
   "id": "2096c4f7-80f1-482a-9969-7e865c2b955e",
   "metadata": {},
   "outputs": [],
   "source": [
    "# standard scaler \n",
    "s = StandardScaler()\n",
    "s.fit(X_data_train)\n",
    "X_data_train = s.transform(X_data_train)\n",
    "X_data_test = s.transform(X_data_test)"
   ]
  },
  {
   "cell_type": "code",
   "execution_count": 12,
   "id": "749ca0b0-7cae-4be0-81ba-b70c3b0571ba",
   "metadata": {},
   "outputs": [],
   "source": [
    "# features for cnn to 10 features:\n",
    "X_train = np.resize(X_train, (X_train.shape[0], 9))\n",
    "X_test = np.resize(X_test, (X_test.shape[0], 9))"
   ]
  },
  {
   "cell_type": "code",
   "execution_count": 13,
   "id": "b98863ee-5faa-406f-8b24-c4ef608121a1",
   "metadata": {},
   "outputs": [
    {
     "data": {
      "text/plain": [
       "9"
      ]
     },
     "execution_count": 13,
     "metadata": {},
     "output_type": "execute_result"
    }
   ],
   "source": [
    "X_train.shape[1]"
   ]
  },
  {
   "cell_type": "markdown",
   "id": "b945abdf-3a46-4387-a64e-64ef27334b9e",
   "metadata": {},
   "source": [
    "# CNN Model"
   ]
  },
  {
   "cell_type": "code",
   "execution_count": 14,
   "id": "1f4ec7eb-a836-4727-a773-22e6780f3cd6",
   "metadata": {},
   "outputs": [
    {
     "name": "stdout",
     "output_type": "stream",
     "text": [
      "Model: \"sequential\"\n",
      "_________________________________________________________________\n",
      " Layer (type)                Output Shape              Param #   \n",
      "=================================================================\n",
      " dense (Dense)               (None, 16)                160       \n",
      "                                                                 \n",
      " dense_1 (Dense)             (None, 16)                272       \n",
      "                                                                 \n",
      " dense_2 (Dense)             (None, 16)                272       \n",
      "                                                                 \n",
      " dense_3 (Dense)             (None, 16)                272       \n",
      "                                                                 \n",
      " dense_4 (Dense)             (None, 16)                272       \n",
      "                                                                 \n",
      " dense_5 (Dense)             (None, 16)                272       \n",
      "                                                                 \n",
      " dense_6 (Dense)             (None, 1)                 17        \n",
      "                                                                 \n",
      "=================================================================\n",
      "Total params: 1,537\n",
      "Trainable params: 1,537\n",
      "Non-trainable params: 0\n",
      "_________________________________________________________________\n"
     ]
    },
    {
     "name": "stderr",
     "output_type": "stream",
     "text": [
      "2022-07-21 20:47:39.445302: I tensorflow/core/platform/cpu_feature_guard.cc:193] This TensorFlow binary is optimized with oneAPI Deep Neural Network Library (oneDNN) to use the following CPU instructions in performance-critical operations:  AVX2 AVX512F FMA\n",
      "To enable them in other operations, rebuild TensorFlow with the appropriate compiler flags.\n",
      "2022-07-21 20:47:42.457522: I tensorflow/core/common_runtime/gpu/gpu_device.cc:1532] Created device /job:localhost/replica:0/task:0/device:GPU:0 with 674 MB memory:  -> device: 0, name: NVIDIA TITAN RTX, pci bus id: 0000:3b:00.0, compute capability: 7.5\n",
      "2022-07-21 20:47:42.461216: I tensorflow/core/common_runtime/gpu/gpu_device.cc:1532] Created device /job:localhost/replica:0/task:0/device:GPU:1 with 467 MB memory:  -> device: 1, name: NVIDIA TITAN RTX, pci bus id: 0000:5e:00.0, compute capability: 7.5\n",
      "2022-07-21 20:47:42.462093: I tensorflow/core/common_runtime/gpu/gpu_device.cc:1532] Created device /job:localhost/replica:0/task:0/device:GPU:2 with 803 MB memory:  -> device: 2, name: NVIDIA TITAN RTX, pci bus id: 0000:86:00.0, compute capability: 7.5\n",
      "2022-07-21 20:47:42.462909: I tensorflow/core/common_runtime/gpu/gpu_device.cc:1532] Created device /job:localhost/replica:0/task:0/device:GPU:3 with 802 MB memory:  -> device: 3, name: NVIDIA TITAN RTX, pci bus id: 0000:af:00.0, compute capability: 7.5\n"
     ]
    }
   ],
   "source": [
    "model = Sequential()\n",
    "model.add(Dense(16, input_shape=(X_data_train.shape[1],), activation='relu'))\n",
    "model.add(Dense(16, activation='relu'))\n",
    "model.add(Dense(16, activation='relu'))\n",
    "model.add(Dense(16, activation='relu'))\n",
    "model.add(Dense(16, activation='relu'))\n",
    "model.add(Dense(16, activation='relu'))\n",
    "model.add(Dense(1, activation='sigmoid'))\n",
    "model.summary()"
   ]
  },
  {
   "cell_type": "code",
   "execution_count": 15,
   "id": "a7e7d10d-42e7-4ac2-8f2e-62f50f6a1aa2",
   "metadata": {},
   "outputs": [],
   "source": [
    "# compile the model \n",
    "model.compile(optimizer='Adam', loss='binary_crossentropy', metrics=['accuracy'])"
   ]
  },
  {
   "cell_type": "code",
   "execution_count": 16,
   "id": "d3664382-4200-4e1c-9c37-583796685614",
   "metadata": {},
   "outputs": [],
   "source": [
    "es = EarlyStopping(monitor='val_accuracy', mode='max', patience=10, restore_best_weights=True)"
   ]
  },
  {
   "cell_type": "code",
   "execution_count": null,
   "id": "ce5f452f-a54a-4653-8198-6b7c60b94d37",
   "metadata": {},
   "outputs": [
    {
     "name": "stdout",
     "output_type": "stream",
     "text": [
      "Epoch 1/10\n",
      "132046/232614 [================>.............] - ETA: 12:17 - loss: 3.2326e-04 - accuracy: 0.9999"
     ]
    }
   ],
   "source": [
    "history = model.fit(X_data_train, y_data_train, callbacks=[es], epochs=10, batch_size=10, validation_split=0.2, shuffle=True, verbose=1)"
   ]
  },
  {
   "cell_type": "code",
   "execution_count": null,
   "id": "a88de7a3-c77d-4139-93ac-91429a792ad2",
   "metadata": {},
   "outputs": [],
   "source": [
    "from matplotlib import pyplot \n",
    "\n",
    "# plot diagnostic learning curves\n",
    "def summarize_diagnostic(history):\n",
    "    # plot loss\n",
    "    pyplot.subplot(211)\n",
    "    pyplot.title('Cross Entropy Loss')\n",
    "    pyplot.plot(history.history['loss'], color='blue', label='train')\n",
    "    pyplot.plot(history.history['val_loss'], color='orange', label='test')\n",
    "    \n",
    "    # plot accuracy\n",
    "    pyplot.subplot(212)\n",
    "    pyplot.title('Classification Accuracy')\n",
    "    pyplot.plot(history.history['accuracy'], color='blue', label='train')\n",
    "    pyplot.plot(history.history['val_accuracy'], color='orange', label='test')\n",
    "    \n",
    "    # save plot to file \n",
    "    pyplot.savefig('cnn_performance_plot.png')\n",
    "    pyplot.close()"
   ]
  },
  {
   "cell_type": "code",
   "execution_count": null,
   "id": "7ac54643-7d76-4aaf-b8bb-bf9741f9a00a",
   "metadata": {},
   "outputs": [],
   "source": [
    "summarize_diagnostic(history)"
   ]
  }
 ],
 "metadata": {
  "kernelspec": {
   "display_name": "Python 3 (ipykernel)",
   "language": "python",
   "name": "python3"
  },
  "language_info": {
   "codemirror_mode": {
    "name": "ipython",
    "version": 3
   },
   "file_extension": ".py",
   "mimetype": "text/x-python",
   "name": "python",
   "nbconvert_exporter": "python",
   "pygments_lexer": "ipython3",
   "version": "3.8.13"
  }
 },
 "nbformat": 4,
 "nbformat_minor": 5
}
